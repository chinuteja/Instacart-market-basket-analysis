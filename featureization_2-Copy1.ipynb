{
 "cells": [
  {
   "cell_type": "code",
   "execution_count": 169,
   "id": "regional-metro",
   "metadata": {},
   "outputs": [],
   "source": [
    "import pandas as pd\n",
    "import numpy as np\n",
    "import seaborn as sns\n",
    "import matplotlib.pyplot as plt\n",
    "import pickle\n",
    "import warnings\n",
    "from sklearn.decomposition import PCA\n",
    "warnings.filterwarnings(\"ignore\")"
   ]
  },
  {
   "cell_type": "code",
   "execution_count": 2,
   "id": "sapphire-analyst",
   "metadata": {},
   "outputs": [],
   "source": [
    "df_prior = pickle.load(open(\"data_pickle/prior_data.pkl\",'rb'))"
   ]
  },
  {
   "cell_type": "code",
   "execution_count": 3,
   "id": "cleared-wheat",
   "metadata": {},
   "outputs": [
    {
     "data": {
      "text/html": [
       "<div>\n",
       "<style scoped>\n",
       "    .dataframe tbody tr th:only-of-type {\n",
       "        vertical-align: middle;\n",
       "    }\n",
       "\n",
       "    .dataframe tbody tr th {\n",
       "        vertical-align: top;\n",
       "    }\n",
       "\n",
       "    .dataframe thead th {\n",
       "        text-align: right;\n",
       "    }\n",
       "</style>\n",
       "<table border=\"1\" class=\"dataframe\">\n",
       "  <thead>\n",
       "    <tr style=\"text-align: right;\">\n",
       "      <th></th>\n",
       "      <th>order_id</th>\n",
       "      <th>product_id</th>\n",
       "      <th>add_to_cart_order</th>\n",
       "      <th>reordered</th>\n",
       "      <th>product_name</th>\n",
       "      <th>aisle_id</th>\n",
       "      <th>department_id</th>\n",
       "      <th>aisle</th>\n",
       "      <th>department</th>\n",
       "      <th>user_id</th>\n",
       "      <th>eval_set</th>\n",
       "      <th>order_number</th>\n",
       "      <th>order_dow</th>\n",
       "      <th>order_hour_of_day</th>\n",
       "      <th>days_since_prior_order</th>\n",
       "    </tr>\n",
       "  </thead>\n",
       "  <tbody>\n",
       "    <tr>\n",
       "      <th>8</th>\n",
       "      <td>2</td>\n",
       "      <td>17794</td>\n",
       "      <td>6</td>\n",
       "      <td>1</td>\n",
       "      <td>Carrots</td>\n",
       "      <td>83</td>\n",
       "      <td>4</td>\n",
       "      <td>fresh vegetables</td>\n",
       "      <td>produce</td>\n",
       "      <td>202279</td>\n",
       "      <td>prior</td>\n",
       "      <td>3</td>\n",
       "      <td>5</td>\n",
       "      <td>9</td>\n",
       "      <td>8.0</td>\n",
       "    </tr>\n",
       "    <tr>\n",
       "      <th>9</th>\n",
       "      <td>2</td>\n",
       "      <td>30035</td>\n",
       "      <td>5</td>\n",
       "      <td>0</td>\n",
       "      <td>Natural Sweetener</td>\n",
       "      <td>17</td>\n",
       "      <td>13</td>\n",
       "      <td>baking ingredients</td>\n",
       "      <td>pantry</td>\n",
       "      <td>202279</td>\n",
       "      <td>prior</td>\n",
       "      <td>3</td>\n",
       "      <td>5</td>\n",
       "      <td>9</td>\n",
       "      <td>8.0</td>\n",
       "    </tr>\n",
       "    <tr>\n",
       "      <th>10</th>\n",
       "      <td>2</td>\n",
       "      <td>1819</td>\n",
       "      <td>8</td>\n",
       "      <td>1</td>\n",
       "      <td>All Natural No Stir Creamy Almond Butter</td>\n",
       "      <td>88</td>\n",
       "      <td>13</td>\n",
       "      <td>spreads</td>\n",
       "      <td>pantry</td>\n",
       "      <td>202279</td>\n",
       "      <td>prior</td>\n",
       "      <td>3</td>\n",
       "      <td>5</td>\n",
       "      <td>9</td>\n",
       "      <td>8.0</td>\n",
       "    </tr>\n",
       "  </tbody>\n",
       "</table>\n",
       "</div>"
      ],
      "text/plain": [
       "    order_id  product_id  add_to_cart_order  reordered  \\\n",
       "8          2       17794                  6          1   \n",
       "9          2       30035                  5          0   \n",
       "10         2        1819                  8          1   \n",
       "\n",
       "                                product_name  aisle_id  department_id  \\\n",
       "8                                    Carrots        83              4   \n",
       "9                          Natural Sweetener        17             13   \n",
       "10  All Natural No Stir Creamy Almond Butter        88             13   \n",
       "\n",
       "                 aisle department  user_id eval_set  order_number  order_dow  \\\n",
       "8     fresh vegetables    produce   202279    prior             3          5   \n",
       "9   baking ingredients     pantry   202279    prior             3          5   \n",
       "10             spreads     pantry   202279    prior             3          5   \n",
       "\n",
       "    order_hour_of_day  days_since_prior_order  \n",
       "8                   9                     8.0  \n",
       "9                   9                     8.0  \n",
       "10                  9                     8.0  "
      ]
     },
     "execution_count": 3,
     "metadata": {},
     "output_type": "execute_result"
    }
   ],
   "source": [
    "df_prior.head(3)"
   ]
  },
  {
   "cell_type": "markdown",
   "id": "urban-radius",
   "metadata": {},
   "source": [
    "<h2> dow reorder rate </h2>"
   ]
  },
  {
   "cell_type": "code",
   "execution_count": 18,
   "id": "sixth-junction",
   "metadata": {},
   "outputs": [],
   "source": [
    "# https://www.kaggle.com/c/instacart-market-basket-analysis/discussion/38126\n",
    "temp = df_prior.groupby('order_dow')['reordered'].agg('sum').reset_index()"
   ]
  },
  {
   "cell_type": "code",
   "execution_count": 19,
   "id": "criminal-struggle",
   "metadata": {},
   "outputs": [],
   "source": [
    "temp[\"dow_rate\"] = (temp[\"reordered\"]/df_prior[\"reordered\"].sum())"
   ]
  },
  {
   "cell_type": "code",
   "execution_count": 21,
   "id": "vulnerable-parade",
   "metadata": {},
   "outputs": [],
   "source": [
    "temp = temp.drop(\"reordered\",axis=1)"
   ]
  },
  {
   "cell_type": "code",
   "execution_count": 24,
   "id": "flexible-cooper",
   "metadata": {},
   "outputs": [
    {
     "data": {
      "text/html": [
       "<div>\n",
       "<style scoped>\n",
       "    .dataframe tbody tr th:only-of-type {\n",
       "        vertical-align: middle;\n",
       "    }\n",
       "\n",
       "    .dataframe tbody tr th {\n",
       "        vertical-align: top;\n",
       "    }\n",
       "\n",
       "    .dataframe thead th {\n",
       "        text-align: right;\n",
       "    }\n",
       "</style>\n",
       "<table border=\"1\" class=\"dataframe\">\n",
       "  <thead>\n",
       "    <tr style=\"text-align: right;\">\n",
       "      <th></th>\n",
       "      <th>order_dow</th>\n",
       "      <th>dow_rate</th>\n",
       "    </tr>\n",
       "  </thead>\n",
       "  <tbody>\n",
       "    <tr>\n",
       "      <th>0</th>\n",
       "      <td>0</td>\n",
       "      <td>0.190017</td>\n",
       "    </tr>\n",
       "    <tr>\n",
       "      <th>1</th>\n",
       "      <td>1</td>\n",
       "      <td>0.178876</td>\n",
       "    </tr>\n",
       "    <tr>\n",
       "      <th>2</th>\n",
       "      <td>2</td>\n",
       "      <td>0.130057</td>\n",
       "    </tr>\n",
       "    <tr>\n",
       "      <th>3</th>\n",
       "      <td>3</td>\n",
       "      <td>0.117831</td>\n",
       "    </tr>\n",
       "    <tr>\n",
       "      <th>4</th>\n",
       "      <td>4</td>\n",
       "      <td>0.117019</td>\n",
       "    </tr>\n",
       "    <tr>\n",
       "      <th>5</th>\n",
       "      <td>5</td>\n",
       "      <td>0.131056</td>\n",
       "    </tr>\n",
       "    <tr>\n",
       "      <th>6</th>\n",
       "      <td>6</td>\n",
       "      <td>0.135144</td>\n",
       "    </tr>\n",
       "  </tbody>\n",
       "</table>\n",
       "</div>"
      ],
      "text/plain": [
       "   order_dow  dow_rate\n",
       "0          0  0.190017\n",
       "1          1  0.178876\n",
       "2          2  0.130057\n",
       "3          3  0.117831\n",
       "4          4  0.117019\n",
       "5          5  0.131056\n",
       "6          6  0.135144"
      ]
     },
     "execution_count": 24,
     "metadata": {},
     "output_type": "execute_result"
    }
   ],
   "source": [
    "temp"
   ]
  },
  {
   "cell_type": "code",
   "execution_count": 22,
   "id": "suffering-shape",
   "metadata": {},
   "outputs": [
    {
     "name": "stdout",
     "output_type": "stream",
     "text": [
      "Wall time: 998 µs\n"
     ]
    }
   ],
   "source": [
    "%%time\n",
    "pickle.dump(temp,open(\"new_features/dow_rate.pkl\",\"wb\"))"
   ]
  },
  {
   "cell_type": "markdown",
   "id": "creative-spelling",
   "metadata": {},
   "source": [
    "<h2> order_hour_of_day rate </h2>"
   ]
  },
  {
   "cell_type": "code",
   "execution_count": 25,
   "id": "analyzed-highlight",
   "metadata": {},
   "outputs": [
    {
     "name": "stdout",
     "output_type": "stream",
     "text": [
      "Wall time: 866 ms\n"
     ]
    }
   ],
   "source": [
    "%%time\n",
    "# similarly we can do for hour of day\n",
    "temp = df_prior.groupby('order_hour_of_day')['reordered'].agg('sum').reset_index()\n",
    "temp[\"order_hour_of_day_rate\"] = (temp[\"reordered\"]/df_prior[\"reordered\"].sum())\n",
    "temp = temp.drop(\"reordered\",axis=1)\n",
    "pickle.dump(temp,open(\"new_features/order_hour_of_day_rate.pkl\",\"wb\"))"
   ]
  },
  {
   "cell_type": "code",
   "execution_count": 26,
   "id": "occasional-brave",
   "metadata": {},
   "outputs": [
    {
     "data": {
      "text/html": [
       "<div>\n",
       "<style scoped>\n",
       "    .dataframe tbody tr th:only-of-type {\n",
       "        vertical-align: middle;\n",
       "    }\n",
       "\n",
       "    .dataframe tbody tr th {\n",
       "        vertical-align: top;\n",
       "    }\n",
       "\n",
       "    .dataframe thead th {\n",
       "        text-align: right;\n",
       "    }\n",
       "</style>\n",
       "<table border=\"1\" class=\"dataframe\">\n",
       "  <thead>\n",
       "    <tr style=\"text-align: right;\">\n",
       "      <th></th>\n",
       "      <th>order_hour_of_day</th>\n",
       "      <th>order_hour_of_day_rate</th>\n",
       "    </tr>\n",
       "  </thead>\n",
       "  <tbody>\n",
       "    <tr>\n",
       "      <th>0</th>\n",
       "      <td>0</td>\n",
       "      <td>0.006473</td>\n",
       "    </tr>\n",
       "    <tr>\n",
       "      <th>1</th>\n",
       "      <td>1</td>\n",
       "      <td>0.003373</td>\n",
       "    </tr>\n",
       "    <tr>\n",
       "      <th>2</th>\n",
       "      <td>2</td>\n",
       "      <td>0.002013</td>\n",
       "    </tr>\n",
       "    <tr>\n",
       "      <th>3</th>\n",
       "      <td>3</td>\n",
       "      <td>0.001501</td>\n",
       "    </tr>\n",
       "    <tr>\n",
       "      <th>4</th>\n",
       "      <td>4</td>\n",
       "      <td>0.001591</td>\n",
       "    </tr>\n",
       "    <tr>\n",
       "      <th>5</th>\n",
       "      <td>5</td>\n",
       "      <td>0.002799</td>\n",
       "    </tr>\n",
       "    <tr>\n",
       "      <th>6</th>\n",
       "      <td>6</td>\n",
       "      <td>0.009677</td>\n",
       "    </tr>\n",
       "    <tr>\n",
       "      <th>7</th>\n",
       "      <td>7</td>\n",
       "      <td>0.030054</td>\n",
       "    </tr>\n",
       "    <tr>\n",
       "      <th>8</th>\n",
       "      <td>8</td>\n",
       "      <td>0.056823</td>\n",
       "    </tr>\n",
       "    <tr>\n",
       "      <th>9</th>\n",
       "      <td>9</td>\n",
       "      <td>0.079565</td>\n",
       "    </tr>\n",
       "    <tr>\n",
       "      <th>10</th>\n",
       "      <td>10</td>\n",
       "      <td>0.086765</td>\n",
       "    </tr>\n",
       "    <tr>\n",
       "      <th>11</th>\n",
       "      <td>11</td>\n",
       "      <td>0.084094</td>\n",
       "    </tr>\n",
       "    <tr>\n",
       "      <th>12</th>\n",
       "      <td>12</td>\n",
       "      <td>0.079381</td>\n",
       "    </tr>\n",
       "    <tr>\n",
       "      <th>13</th>\n",
       "      <td>13</td>\n",
       "      <td>0.080750</td>\n",
       "    </tr>\n",
       "    <tr>\n",
       "      <th>14</th>\n",
       "      <td>14</td>\n",
       "      <td>0.081802</td>\n",
       "    </tr>\n",
       "    <tr>\n",
       "      <th>15</th>\n",
       "      <td>15</td>\n",
       "      <td>0.080903</td>\n",
       "    </tr>\n",
       "    <tr>\n",
       "      <th>16</th>\n",
       "      <td>16</td>\n",
       "      <td>0.076765</td>\n",
       "    </tr>\n",
       "    <tr>\n",
       "      <th>17</th>\n",
       "      <td>17</td>\n",
       "      <td>0.062791</td>\n",
       "    </tr>\n",
       "    <tr>\n",
       "      <th>18</th>\n",
       "      <td>18</td>\n",
       "      <td>0.049107</td>\n",
       "    </tr>\n",
       "    <tr>\n",
       "      <th>19</th>\n",
       "      <td>19</td>\n",
       "      <td>0.037810</td>\n",
       "    </tr>\n",
       "    <tr>\n",
       "      <th>20</th>\n",
       "      <td>20</td>\n",
       "      <td>0.029744</td>\n",
       "    </tr>\n",
       "    <tr>\n",
       "      <th>21</th>\n",
       "      <td>21</td>\n",
       "      <td>0.024594</td>\n",
       "    </tr>\n",
       "    <tr>\n",
       "      <th>22</th>\n",
       "      <td>22</td>\n",
       "      <td>0.019422</td>\n",
       "    </tr>\n",
       "    <tr>\n",
       "      <th>23</th>\n",
       "      <td>23</td>\n",
       "      <td>0.012202</td>\n",
       "    </tr>\n",
       "  </tbody>\n",
       "</table>\n",
       "</div>"
      ],
      "text/plain": [
       "    order_hour_of_day  order_hour_of_day_rate\n",
       "0                   0                0.006473\n",
       "1                   1                0.003373\n",
       "2                   2                0.002013\n",
       "3                   3                0.001501\n",
       "4                   4                0.001591\n",
       "5                   5                0.002799\n",
       "6                   6                0.009677\n",
       "7                   7                0.030054\n",
       "8                   8                0.056823\n",
       "9                   9                0.079565\n",
       "10                 10                0.086765\n",
       "11                 11                0.084094\n",
       "12                 12                0.079381\n",
       "13                 13                0.080750\n",
       "14                 14                0.081802\n",
       "15                 15                0.080903\n",
       "16                 16                0.076765\n",
       "17                 17                0.062791\n",
       "18                 18                0.049107\n",
       "19                 19                0.037810\n",
       "20                 20                0.029744\n",
       "21                 21                0.024594\n",
       "22                 22                0.019422\n",
       "23                 23                0.012202"
      ]
     },
     "execution_count": 26,
     "metadata": {},
     "output_type": "execute_result"
    }
   ],
   "source": [
    "temp"
   ]
  },
  {
   "cell_type": "markdown",
   "id": "christian-rochester",
   "metadata": {},
   "source": [
    "<h2> days_since_prior_order rate </h2>"
   ]
  },
  {
   "cell_type": "code",
   "execution_count": 27,
   "id": "constant-pleasure",
   "metadata": {},
   "outputs": [
    {
     "name": "stdout",
     "output_type": "stream",
     "text": [
      "Wall time: 1.12 s\n"
     ]
    }
   ],
   "source": [
    "%%time\n",
    "# similarly we can do days since prior order rate\n",
    "temp = df_prior.groupby('days_since_prior_order')['reordered'].agg('sum').reset_index()\n",
    "temp[\"days_since_prior_order_rate\"] = (temp[\"reordered\"]/df_prior[\"reordered\"].sum())\n",
    "temp = temp.drop(\"reordered\",axis=1)\n",
    "pickle.dump(temp,open(\"new_features/days_since_prior_order_rate.pkl\",\"wb\"))"
   ]
  },
  {
   "cell_type": "code",
   "execution_count": 28,
   "id": "relative-advantage",
   "metadata": {},
   "outputs": [
    {
     "data": {
      "text/html": [
       "<div>\n",
       "<style scoped>\n",
       "    .dataframe tbody tr th:only-of-type {\n",
       "        vertical-align: middle;\n",
       "    }\n",
       "\n",
       "    .dataframe tbody tr th {\n",
       "        vertical-align: top;\n",
       "    }\n",
       "\n",
       "    .dataframe thead th {\n",
       "        text-align: right;\n",
       "    }\n",
       "</style>\n",
       "<table border=\"1\" class=\"dataframe\">\n",
       "  <thead>\n",
       "    <tr style=\"text-align: right;\">\n",
       "      <th></th>\n",
       "      <th>days_since_prior_order</th>\n",
       "      <th>days_since_prior_order_rate</th>\n",
       "    </tr>\n",
       "  </thead>\n",
       "  <tbody>\n",
       "    <tr>\n",
       "      <th>0</th>\n",
       "      <td>0.0</td>\n",
       "      <td>0.017331</td>\n",
       "    </tr>\n",
       "    <tr>\n",
       "      <th>1</th>\n",
       "      <td>1.0</td>\n",
       "      <td>0.030390</td>\n",
       "    </tr>\n",
       "    <tr>\n",
       "      <th>2</th>\n",
       "      <td>2.0</td>\n",
       "      <td>0.049433</td>\n",
       "    </tr>\n",
       "    <tr>\n",
       "      <th>3</th>\n",
       "      <td>3.0</td>\n",
       "      <td>0.065646</td>\n",
       "    </tr>\n",
       "    <tr>\n",
       "      <th>4</th>\n",
       "      <td>4.0</td>\n",
       "      <td>0.073704</td>\n",
       "    </tr>\n",
       "    <tr>\n",
       "      <th>5</th>\n",
       "      <td>5.0</td>\n",
       "      <td>0.074935</td>\n",
       "    </tr>\n",
       "    <tr>\n",
       "      <th>6</th>\n",
       "      <td>6.0</td>\n",
       "      <td>0.089204</td>\n",
       "    </tr>\n",
       "    <tr>\n",
       "      <th>7</th>\n",
       "      <td>7.0</td>\n",
       "      <td>0.126195</td>\n",
       "    </tr>\n",
       "    <tr>\n",
       "      <th>8</th>\n",
       "      <td>8.0</td>\n",
       "      <td>0.067771</td>\n",
       "    </tr>\n",
       "    <tr>\n",
       "      <th>9</th>\n",
       "      <td>9.0</td>\n",
       "      <td>0.041491</td>\n",
       "    </tr>\n",
       "    <tr>\n",
       "      <th>10</th>\n",
       "      <td>10.0</td>\n",
       "      <td>0.032593</td>\n",
       "    </tr>\n",
       "    <tr>\n",
       "      <th>11</th>\n",
       "      <td>11.0</td>\n",
       "      <td>0.027133</td>\n",
       "    </tr>\n",
       "    <tr>\n",
       "      <th>12</th>\n",
       "      <td>12.0</td>\n",
       "      <td>0.025350</td>\n",
       "    </tr>\n",
       "    <tr>\n",
       "      <th>13</th>\n",
       "      <td>13.0</td>\n",
       "      <td>0.027669</td>\n",
       "    </tr>\n",
       "    <tr>\n",
       "      <th>14</th>\n",
       "      <td>14.0</td>\n",
       "      <td>0.033856</td>\n",
       "    </tr>\n",
       "    <tr>\n",
       "      <th>15</th>\n",
       "      <td>15.0</td>\n",
       "      <td>0.021652</td>\n",
       "    </tr>\n",
       "    <tr>\n",
       "      <th>16</th>\n",
       "      <td>16.0</td>\n",
       "      <td>0.014517</td>\n",
       "    </tr>\n",
       "    <tr>\n",
       "      <th>17</th>\n",
       "      <td>17.0</td>\n",
       "      <td>0.011920</td>\n",
       "    </tr>\n",
       "    <tr>\n",
       "      <th>18</th>\n",
       "      <td>18.0</td>\n",
       "      <td>0.010738</td>\n",
       "    </tr>\n",
       "    <tr>\n",
       "      <th>19</th>\n",
       "      <td>19.0</td>\n",
       "      <td>0.010230</td>\n",
       "    </tr>\n",
       "    <tr>\n",
       "      <th>20</th>\n",
       "      <td>20.0</td>\n",
       "      <td>0.011562</td>\n",
       "    </tr>\n",
       "    <tr>\n",
       "      <th>21</th>\n",
       "      <td>21.0</td>\n",
       "      <td>0.013576</td>\n",
       "    </tr>\n",
       "    <tr>\n",
       "      <th>22</th>\n",
       "      <td>22.0</td>\n",
       "      <td>0.009344</td>\n",
       "    </tr>\n",
       "    <tr>\n",
       "      <th>23</th>\n",
       "      <td>23.0</td>\n",
       "      <td>0.006642</td>\n",
       "    </tr>\n",
       "    <tr>\n",
       "      <th>24</th>\n",
       "      <td>24.0</td>\n",
       "      <td>0.005635</td>\n",
       "    </tr>\n",
       "    <tr>\n",
       "      <th>25</th>\n",
       "      <td>25.0</td>\n",
       "      <td>0.005199</td>\n",
       "    </tr>\n",
       "    <tr>\n",
       "      <th>26</th>\n",
       "      <td>26.0</td>\n",
       "      <td>0.005038</td>\n",
       "    </tr>\n",
       "    <tr>\n",
       "      <th>27</th>\n",
       "      <td>27.0</td>\n",
       "      <td>0.005837</td>\n",
       "    </tr>\n",
       "    <tr>\n",
       "      <th>28</th>\n",
       "      <td>28.0</td>\n",
       "      <td>0.007291</td>\n",
       "    </tr>\n",
       "    <tr>\n",
       "      <th>29</th>\n",
       "      <td>29.0</td>\n",
       "      <td>0.004987</td>\n",
       "    </tr>\n",
       "    <tr>\n",
       "      <th>30</th>\n",
       "      <td>30.0</td>\n",
       "      <td>0.073130</td>\n",
       "    </tr>\n",
       "  </tbody>\n",
       "</table>\n",
       "</div>"
      ],
      "text/plain": [
       "    days_since_prior_order  days_since_prior_order_rate\n",
       "0                      0.0                     0.017331\n",
       "1                      1.0                     0.030390\n",
       "2                      2.0                     0.049433\n",
       "3                      3.0                     0.065646\n",
       "4                      4.0                     0.073704\n",
       "5                      5.0                     0.074935\n",
       "6                      6.0                     0.089204\n",
       "7                      7.0                     0.126195\n",
       "8                      8.0                     0.067771\n",
       "9                      9.0                     0.041491\n",
       "10                    10.0                     0.032593\n",
       "11                    11.0                     0.027133\n",
       "12                    12.0                     0.025350\n",
       "13                    13.0                     0.027669\n",
       "14                    14.0                     0.033856\n",
       "15                    15.0                     0.021652\n",
       "16                    16.0                     0.014517\n",
       "17                    17.0                     0.011920\n",
       "18                    18.0                     0.010738\n",
       "19                    19.0                     0.010230\n",
       "20                    20.0                     0.011562\n",
       "21                    21.0                     0.013576\n",
       "22                    22.0                     0.009344\n",
       "23                    23.0                     0.006642\n",
       "24                    24.0                     0.005635\n",
       "25                    25.0                     0.005199\n",
       "26                    26.0                     0.005038\n",
       "27                    27.0                     0.005837\n",
       "28                    28.0                     0.007291\n",
       "29                    29.0                     0.004987\n",
       "30                    30.0                     0.073130"
      ]
     },
     "execution_count": 28,
     "metadata": {},
     "output_type": "execute_result"
    }
   ],
   "source": [
    "temp"
   ]
  },
  {
   "cell_type": "markdown",
   "id": "european-photograph",
   "metadata": {},
   "source": [
    "<h2> getting product features </h2>"
   ]
  },
  {
   "cell_type": "code",
   "execution_count": 4,
   "id": "honest-expansion",
   "metadata": {},
   "outputs": [
    {
     "name": "stdout",
     "output_type": "stream",
     "text": [
      "Wall time: 10.1 s\n"
     ]
    }
   ],
   "source": [
    "%%time\n",
    "product_features = pd.DataFrame(columns=['product_id'])\n",
    "product_features['product_id'] = df_prior['product_id'].sort_values().unique()"
   ]
  },
  {
   "cell_type": "code",
   "execution_count": 94,
   "id": "liable-advisory",
   "metadata": {},
   "outputs": [
    {
     "name": "stdout",
     "output_type": "stream",
     "text": [
      "Wall time: 51.1 s\n"
     ]
    },
    {
     "data": {
      "text/html": [
       "<div>\n",
       "<style scoped>\n",
       "    .dataframe tbody tr th:only-of-type {\n",
       "        vertical-align: middle;\n",
       "    }\n",
       "\n",
       "    .dataframe tbody tr th {\n",
       "        vertical-align: top;\n",
       "    }\n",
       "\n",
       "    .dataframe thead th {\n",
       "        text-align: right;\n",
       "    }\n",
       "</style>\n",
       "<table border=\"1\" class=\"dataframe\">\n",
       "  <thead>\n",
       "    <tr style=\"text-align: right;\">\n",
       "      <th></th>\n",
       "      <th></th>\n",
       "      <th>reordered</th>\n",
       "      <th>%</th>\n",
       "    </tr>\n",
       "    <tr>\n",
       "      <th>product_id</th>\n",
       "      <th>reordered</th>\n",
       "      <th></th>\n",
       "      <th></th>\n",
       "    </tr>\n",
       "  </thead>\n",
       "  <tbody>\n",
       "    <tr>\n",
       "      <th rowspan=\"2\" valign=\"top\">1</th>\n",
       "      <th>0</th>\n",
       "      <td>716</td>\n",
       "      <td>38.660907</td>\n",
       "    </tr>\n",
       "    <tr>\n",
       "      <th>1</th>\n",
       "      <td>1136</td>\n",
       "      <td>61.339093</td>\n",
       "    </tr>\n",
       "    <tr>\n",
       "      <th>2</th>\n",
       "      <th>0</th>\n",
       "      <td>78</td>\n",
       "      <td>86.666667</td>\n",
       "    </tr>\n",
       "  </tbody>\n",
       "</table>\n",
       "</div>"
      ],
      "text/plain": [
       "                      reordered          %\n",
       "product_id reordered                      \n",
       "1          0                716  38.660907\n",
       "           1               1136  61.339093\n",
       "2          0                 78  86.666667"
      ]
     },
     "execution_count": 94,
     "metadata": {},
     "output_type": "execute_result"
    }
   ],
   "source": [
    "%%time\n",
    "groupped_data = df_prior.groupby(['product_id', 'reordered']).agg({'reordered': 'count'})\n",
    "groupped_data[\"%\"] = groupped_data.groupby(level=0).apply(lambda x:  100*x / x.sum())\n",
    "groupped_data.head(3)"
   ]
  },
  {
   "cell_type": "code",
   "execution_count": null,
   "id": "authorized-tongue",
   "metadata": {},
   "outputs": [],
   "source": []
  },
  {
   "cell_type": "markdown",
   "id": "ready-purchase",
   "metadata": {},
   "source": [
    "<h4> product reorder rate </h4>"
   ]
  },
  {
   "cell_type": "code",
   "execution_count": 5,
   "id": "adolescent-polyester",
   "metadata": {},
   "outputs": [
    {
     "name": "stdout",
     "output_type": "stream",
     "text": [
      "Wall time: 52.8 s\n"
     ]
    }
   ],
   "source": [
    "%%time\n",
    "# https://towardsdatascience.com/4-useful-tips-of-pandas-groupby-3744eefb1852\n",
    "df = pd.DataFrame({'reorder_rate': df_prior.groupby(['product_id','reordered'])['reordered'].count().groupby(level=0).apply(lambda x: x / float(x.sum()))}).reset_index()"
   ]
  },
  {
   "cell_type": "code",
   "execution_count": 6,
   "id": "green-million",
   "metadata": {},
   "outputs": [
    {
     "data": {
      "text/html": [
       "<div>\n",
       "<style scoped>\n",
       "    .dataframe tbody tr th:only-of-type {\n",
       "        vertical-align: middle;\n",
       "    }\n",
       "\n",
       "    .dataframe tbody tr th {\n",
       "        vertical-align: top;\n",
       "    }\n",
       "\n",
       "    .dataframe thead th {\n",
       "        text-align: right;\n",
       "    }\n",
       "</style>\n",
       "<table border=\"1\" class=\"dataframe\">\n",
       "  <thead>\n",
       "    <tr style=\"text-align: right;\">\n",
       "      <th></th>\n",
       "      <th>product_id</th>\n",
       "      <th>reordered</th>\n",
       "      <th>reorder_rate</th>\n",
       "    </tr>\n",
       "  </thead>\n",
       "  <tbody>\n",
       "    <tr>\n",
       "      <th>0</th>\n",
       "      <td>1</td>\n",
       "      <td>0</td>\n",
       "      <td>0.386609</td>\n",
       "    </tr>\n",
       "    <tr>\n",
       "      <th>1</th>\n",
       "      <td>1</td>\n",
       "      <td>1</td>\n",
       "      <td>0.613391</td>\n",
       "    </tr>\n",
       "    <tr>\n",
       "      <th>2</th>\n",
       "      <td>2</td>\n",
       "      <td>0</td>\n",
       "      <td>0.866667</td>\n",
       "    </tr>\n",
       "  </tbody>\n",
       "</table>\n",
       "</div>"
      ],
      "text/plain": [
       "   product_id  reordered  reorder_rate\n",
       "0           1          0      0.386609\n",
       "1           1          1      0.613391\n",
       "2           2          0      0.866667"
      ]
     },
     "execution_count": 6,
     "metadata": {},
     "output_type": "execute_result"
    }
   ],
   "source": [
    "df.head(3)"
   ]
  },
  {
   "cell_type": "code",
   "execution_count": 7,
   "id": "thousand-happening",
   "metadata": {},
   "outputs": [],
   "source": [
    "#get data of reordered products only\n",
    "new_df = df[df['reordered']==1]\n",
    "new_df['reorder_rate'] = new_df['reorder_rate'] * new_df['reordered']\n",
    "#handling for products which were never reordered, hence reorder_rate = 0.0\n",
    "new_df_1 = df[(df['reordered']==0) & (df['reorder_rate']==float(1.0))]\n",
    "new_df_1['reorder_rate'] = new_df_1['reorder_rate'] * new_df_1['reordered']\n",
    "new_df = new_df.append(new_df_1)\n",
    "new_df.drop('reordered', axis = 1, inplace = True)\n",
    "new_df.sort_values(by='product_id', inplace =  True)   \n",
    "new_df = new_df.reset_index(drop = True)\n",
    "#add to feat_1 of product_features dataframe\n",
    "product_features['product_reorder_rate'] = new_df['reorder_rate']"
   ]
  },
  {
   "cell_type": "code",
   "execution_count": 9,
   "id": "further-david",
   "metadata": {},
   "outputs": [],
   "source": [
    "#get mean position of product in the cart, sort by product_name and add to feat_2 of product_features\n",
    "mean_position = df_prior.groupby('product_id')['add_to_cart_order'].mean().reset_index(name = 'avg_position')\n",
    "mean_position.sort_values(by = 'product_id', inplace = True)\n",
    "product_features['avg_pos_incart'] = mean_position['avg_position']"
   ]
  },
  {
   "cell_type": "code",
   "execution_count": 10,
   "id": "eligible-token",
   "metadata": {},
   "outputs": [
    {
     "name": "stdout",
     "output_type": "stream",
     "text": [
      "Wall time: 1min 20s\n"
     ]
    }
   ],
   "source": [
    "%%time\n",
    "#Get aisle reorder rate\n",
    "df = df_prior.groupby(['aisle']).size().reset_index(name='order_count')\n",
    "aisle_reorder_rate = df_prior[df_prior['reordered']==1].groupby(['aisle']).size().reset_index(name='reorder_rate')\n",
    "df['aisle_reorder_rate'] = aisle_reorder_rate['reorder_rate']/df['order_count']\n",
    "df.drop(['order_count'], axis = 1, inplace = True)\n",
    "new_df = pd.merge(df_prior, df, on = 'aisle')"
   ]
  },
  {
   "cell_type": "code",
   "execution_count": 13,
   "id": "final-hamburg",
   "metadata": {},
   "outputs": [
    {
     "name": "stdout",
     "output_type": "stream",
     "text": [
      "Wall time: 52 s\n"
     ]
    }
   ],
   "source": [
    "%%time\n",
    "#Get dept reorder rate\n",
    "df = df_prior.groupby(['department']).size().reset_index(name='order_count')\n",
    "aisle_reorder_rate = df_prior[df_prior['reordered']==1].groupby(['department']).size().reset_index(name='reorder_rate')\n",
    "df['dept_reorder_rate'] = aisle_reorder_rate['reorder_rate']/df['order_count']\n",
    "df.drop(['order_count'], axis = 1, inplace = True)\n",
    "new_df = pd.merge(new_df, df, on = 'department')"
   ]
  },
  {
   "cell_type": "code",
   "execution_count": 14,
   "id": "loved-february",
   "metadata": {},
   "outputs": [],
   "source": [
    "new_df = new_df[['product_id','aisle_id','department_id','aisle_reorder_rate','dept_reorder_rate']]\n",
    "new_df.drop_duplicates(keep='first', inplace = True)"
   ]
  },
  {
   "cell_type": "code",
   "execution_count": 15,
   "id": "electronic-begin",
   "metadata": {},
   "outputs": [
    {
     "name": "stdout",
     "output_type": "stream",
     "text": [
      "Wall time: 261 ms\n"
     ]
    }
   ],
   "source": [
    "%%time\n",
    "#merge dept_reorder_rate and aisle_reorder_rate to existing product features\n",
    "product_features = pd.merge(product_features, new_df , on='product_id', how = 'inner')"
   ]
  },
  {
   "cell_type": "code",
   "execution_count": 17,
   "id": "metallic-notion",
   "metadata": {},
   "outputs": [
    {
     "data": {
      "text/html": [
       "<div>\n",
       "<style scoped>\n",
       "    .dataframe tbody tr th:only-of-type {\n",
       "        vertical-align: middle;\n",
       "    }\n",
       "\n",
       "    .dataframe tbody tr th {\n",
       "        vertical-align: top;\n",
       "    }\n",
       "\n",
       "    .dataframe thead th {\n",
       "        text-align: right;\n",
       "    }\n",
       "</style>\n",
       "<table border=\"1\" class=\"dataframe\">\n",
       "  <thead>\n",
       "    <tr style=\"text-align: right;\">\n",
       "      <th></th>\n",
       "      <th>product_id</th>\n",
       "      <th>product_reorder_rate</th>\n",
       "      <th>avg_pos_incart</th>\n",
       "      <th>aisle_id</th>\n",
       "      <th>department_id</th>\n",
       "      <th>aisle_reorder_rate</th>\n",
       "      <th>dept_reorder_rate</th>\n",
       "    </tr>\n",
       "  </thead>\n",
       "  <tbody>\n",
       "    <tr>\n",
       "      <th>0</th>\n",
       "      <td>1</td>\n",
       "      <td>0.613391</td>\n",
       "      <td>5.801836</td>\n",
       "      <td>61</td>\n",
       "      <td>19</td>\n",
       "      <td>0.548698</td>\n",
       "      <td>0.574180</td>\n",
       "    </tr>\n",
       "    <tr>\n",
       "      <th>1</th>\n",
       "      <td>2</td>\n",
       "      <td>0.133333</td>\n",
       "      <td>9.888889</td>\n",
       "      <td>104</td>\n",
       "      <td>13</td>\n",
       "      <td>0.152391</td>\n",
       "      <td>0.346721</td>\n",
       "    </tr>\n",
       "    <tr>\n",
       "      <th>2</th>\n",
       "      <td>3</td>\n",
       "      <td>0.732852</td>\n",
       "      <td>6.415162</td>\n",
       "      <td>94</td>\n",
       "      <td>7</td>\n",
       "      <td>0.527615</td>\n",
       "      <td>0.653460</td>\n",
       "    </tr>\n",
       "  </tbody>\n",
       "</table>\n",
       "</div>"
      ],
      "text/plain": [
       "   product_id  product_reorder_rate  avg_pos_incart  aisle_id  department_id  \\\n",
       "0           1              0.613391        5.801836        61             19   \n",
       "1           2              0.133333        9.888889       104             13   \n",
       "2           3              0.732852        6.415162        94              7   \n",
       "\n",
       "   aisle_reorder_rate  dept_reorder_rate  \n",
       "0            0.548698           0.574180  \n",
       "1            0.152391           0.346721  \n",
       "2            0.527615           0.653460  "
      ]
     },
     "execution_count": 17,
     "metadata": {},
     "output_type": "execute_result"
    }
   ],
   "source": [
    "product_features.head(3)"
   ]
  },
  {
   "cell_type": "code",
   "execution_count": 18,
   "id": "mighty-spine",
   "metadata": {},
   "outputs": [
    {
     "name": "stdout",
     "output_type": "stream",
     "text": [
      "Wall time: 22.6 ms\n"
     ]
    }
   ],
   "source": [
    "%%time\n",
    "pickle.dump(product_features,open(\"new_features/product_features.pkl\",\"wb\"))"
   ]
  },
  {
   "cell_type": "markdown",
   "id": "owned-honolulu",
   "metadata": {},
   "source": [
    "<h2> USER featurers </h2>"
   ]
  },
  {
   "cell_type": "code",
   "execution_count": 48,
   "id": "boxed-crest",
   "metadata": {},
   "outputs": [],
   "source": [
    "user_features = pd.DataFrame(columns=['user_id'])\n",
    "user_features['user_id'] = df_prior['user_id'].sort_values().unique()"
   ]
  },
  {
   "cell_type": "code",
   "execution_count": 37,
   "id": "approximate-second",
   "metadata": {},
   "outputs": [
    {
     "data": {
      "text/plain": [
       "(206209, 2)"
      ]
     },
     "execution_count": 37,
     "metadata": {},
     "output_type": "execute_result"
    }
   ],
   "source": [
    "user_features.shape"
   ]
  },
  {
   "cell_type": "code",
   "execution_count": 43,
   "id": "voluntary-progressive",
   "metadata": {},
   "outputs": [
    {
     "name": "stdout",
     "output_type": "stream",
     "text": [
      "Wall time: 3min 45s\n"
     ]
    }
   ],
   "source": [
    "%%time\n",
    "# user reorder rate\n",
    "user_reorder_rate = df_prior.groupby([\"user_id\",\"reordered\"])['reordered'].count().groupby(level = 0).apply(lambda x: x / float(x.sum())).reset_index(name='reorder_rate')"
   ]
  },
  {
   "cell_type": "code",
   "execution_count": 44,
   "id": "conventional-calculator",
   "metadata": {},
   "outputs": [
    {
     "data": {
      "text/plain": [
       "(409373, 3)"
      ]
     },
     "execution_count": 44,
     "metadata": {},
     "output_type": "execute_result"
    }
   ],
   "source": [
    "user_reorder_rate.shape"
   ]
  },
  {
   "cell_type": "code",
   "execution_count": 45,
   "id": "coordinated-steps",
   "metadata": {},
   "outputs": [],
   "source": [
    "user_reorder_rate = user_reorder_rate[user_reorder_rate[\"reordered\"]==1]"
   ]
  },
  {
   "cell_type": "code",
   "execution_count": 49,
   "id": "manual-williams",
   "metadata": {},
   "outputs": [],
   "source": [
    "user_features = user_features.merge(user_reorder_rate,on=\"user_id\",how = \"left\").fillna(0)"
   ]
  },
  {
   "cell_type": "code",
   "execution_count": 53,
   "id": "cordless-yukon",
   "metadata": {},
   "outputs": [
    {
     "data": {
      "text/html": [
       "<div>\n",
       "<style scoped>\n",
       "    .dataframe tbody tr th:only-of-type {\n",
       "        vertical-align: middle;\n",
       "    }\n",
       "\n",
       "    .dataframe tbody tr th {\n",
       "        vertical-align: top;\n",
       "    }\n",
       "\n",
       "    .dataframe thead th {\n",
       "        text-align: right;\n",
       "    }\n",
       "</style>\n",
       "<table border=\"1\" class=\"dataframe\">\n",
       "  <thead>\n",
       "    <tr style=\"text-align: right;\">\n",
       "      <th></th>\n",
       "      <th>user_id</th>\n",
       "      <th>reordered</th>\n",
       "      <th>reorder_rate</th>\n",
       "    </tr>\n",
       "  </thead>\n",
       "  <tbody>\n",
       "    <tr>\n",
       "      <th>0</th>\n",
       "      <td>1</td>\n",
       "      <td>1.0</td>\n",
       "      <td>0.694915</td>\n",
       "    </tr>\n",
       "    <tr>\n",
       "      <th>1</th>\n",
       "      <td>2</td>\n",
       "      <td>1.0</td>\n",
       "      <td>0.476923</td>\n",
       "    </tr>\n",
       "    <tr>\n",
       "      <th>2</th>\n",
       "      <td>3</td>\n",
       "      <td>1.0</td>\n",
       "      <td>0.625000</td>\n",
       "    </tr>\n",
       "  </tbody>\n",
       "</table>\n",
       "</div>"
      ],
      "text/plain": [
       "   user_id  reordered  reorder_rate\n",
       "0        1        1.0      0.694915\n",
       "1        2        1.0      0.476923\n",
       "2        3        1.0      0.625000"
      ]
     },
     "execution_count": 53,
     "metadata": {},
     "output_type": "execute_result"
    }
   ],
   "source": [
    "user_features.head(3)"
   ]
  },
  {
   "cell_type": "code",
   "execution_count": 58,
   "id": "downtown-brighton",
   "metadata": {},
   "outputs": [
    {
     "data": {
      "text/plain": [
       "(206209, 3)"
      ]
     },
     "execution_count": 58,
     "metadata": {},
     "output_type": "execute_result"
    }
   ],
   "source": [
    "user_features.shape"
   ]
  },
  {
   "cell_type": "code",
   "execution_count": 56,
   "id": "configured-killer",
   "metadata": {},
   "outputs": [
    {
     "name": "stdout",
     "output_type": "stream",
     "text": [
      "Wall time: 1min 40s\n"
     ]
    }
   ],
   "source": [
    "%%time\n",
    "# this feature is inspired by https://www.kaggle.com/c/instacart-market-basket-analysis/discussion/38100\n",
    "# no of unique products by user\n",
    "temp = df_prior.groupby([\"user_id\"])['product_name'].nunique().reset_index(name = 'unique_products')"
   ]
  },
  {
   "cell_type": "code",
   "execution_count": 59,
   "id": "recent-preparation",
   "metadata": {},
   "outputs": [],
   "source": [
    "user_features = user_features.merge(temp,on=\"user_id\",how=\"left\")"
   ]
  },
  {
   "cell_type": "code",
   "execution_count": 65,
   "id": "widespread-prince",
   "metadata": {},
   "outputs": [
    {
     "name": "stdout",
     "output_type": "stream",
     "text": [
      "Wall time: 1.74 s\n"
     ]
    }
   ],
   "source": [
    "%%time\n",
    "temp = df_prior.groupby([\"user_id\"])['product_name'].size().reset_index(name = 'user_total_products')"
   ]
  },
  {
   "cell_type": "code",
   "execution_count": 67,
   "id": "intellectual-potter",
   "metadata": {},
   "outputs": [],
   "source": [
    "user_features = user_features.merge(temp,on=\"user_id\",how=\"left\")"
   ]
  },
  {
   "cell_type": "code",
   "execution_count": 69,
   "id": "selective-relations",
   "metadata": {},
   "outputs": [
    {
     "data": {
      "text/html": [
       "<div>\n",
       "<style scoped>\n",
       "    .dataframe tbody tr th:only-of-type {\n",
       "        vertical-align: middle;\n",
       "    }\n",
       "\n",
       "    .dataframe tbody tr th {\n",
       "        vertical-align: top;\n",
       "    }\n",
       "\n",
       "    .dataframe thead th {\n",
       "        text-align: right;\n",
       "    }\n",
       "</style>\n",
       "<table border=\"1\" class=\"dataframe\">\n",
       "  <thead>\n",
       "    <tr style=\"text-align: right;\">\n",
       "      <th></th>\n",
       "      <th>user_id</th>\n",
       "      <th>reordered</th>\n",
       "      <th>reorder_rate</th>\n",
       "      <th>unique_products</th>\n",
       "      <th>user_total_products</th>\n",
       "    </tr>\n",
       "  </thead>\n",
       "  <tbody>\n",
       "    <tr>\n",
       "      <th>0</th>\n",
       "      <td>1</td>\n",
       "      <td>1.0</td>\n",
       "      <td>0.694915</td>\n",
       "      <td>18</td>\n",
       "      <td>59</td>\n",
       "    </tr>\n",
       "    <tr>\n",
       "      <th>1</th>\n",
       "      <td>2</td>\n",
       "      <td>1.0</td>\n",
       "      <td>0.476923</td>\n",
       "      <td>102</td>\n",
       "      <td>195</td>\n",
       "    </tr>\n",
       "    <tr>\n",
       "      <th>2</th>\n",
       "      <td>3</td>\n",
       "      <td>1.0</td>\n",
       "      <td>0.625000</td>\n",
       "      <td>33</td>\n",
       "      <td>88</td>\n",
       "    </tr>\n",
       "    <tr>\n",
       "      <th>3</th>\n",
       "      <td>4</td>\n",
       "      <td>1.0</td>\n",
       "      <td>0.055556</td>\n",
       "      <td>17</td>\n",
       "      <td>18</td>\n",
       "    </tr>\n",
       "    <tr>\n",
       "      <th>4</th>\n",
       "      <td>5</td>\n",
       "      <td>1.0</td>\n",
       "      <td>0.378378</td>\n",
       "      <td>23</td>\n",
       "      <td>37</td>\n",
       "    </tr>\n",
       "  </tbody>\n",
       "</table>\n",
       "</div>"
      ],
      "text/plain": [
       "   user_id  reordered  reorder_rate  unique_products  user_total_products\n",
       "0        1        1.0      0.694915               18                   59\n",
       "1        2        1.0      0.476923              102                  195\n",
       "2        3        1.0      0.625000               33                   88\n",
       "3        4        1.0      0.055556               17                   18\n",
       "4        5        1.0      0.378378               23                   37"
      ]
     },
     "execution_count": 69,
     "metadata": {},
     "output_type": "execute_result"
    }
   ],
   "source": [
    "user_features.head(5)"
   ]
  },
  {
   "cell_type": "code",
   "execution_count": 72,
   "id": "normal-consequence",
   "metadata": {},
   "outputs": [
    {
     "name": "stdout",
     "output_type": "stream",
     "text": [
      "Wall time: 8.19 s\n"
     ]
    }
   ],
   "source": [
    "%%time\n",
    "# avg cart size\n",
    "# \n",
    "temp = df_prior.groupby([\"user_id\",\"order_id\"])['add_to_cart_order'].count().reset_index(name='avg_cart_size')\n",
    "temp_1 = temp.groupby('user_id')['avg_cart_size'].mean().reset_index()"
   ]
  },
  {
   "cell_type": "code",
   "execution_count": 74,
   "id": "cellular-degree",
   "metadata": {},
   "outputs": [],
   "source": [
    "user_features = user_features.merge(temp_1,on=\"user_id\",how=\"left\")"
   ]
  },
  {
   "cell_type": "code",
   "execution_count": 76,
   "id": "blocked-validation",
   "metadata": {},
   "outputs": [
    {
     "name": "stdout",
     "output_type": "stream",
     "text": [
      "Wall time: 9.83 s\n"
     ]
    }
   ],
   "source": [
    "%%time\n",
    "# https://www.kaggle.com/c/instacart-market-basket-analysis/discussion/38100\n",
    "#Get average days between 2 orders for every user\n",
    "temp = df_prior.groupby([\"user_id\",\"order_id\"])['days_since_prior_order'].max().reset_index(name='user_avg_days_between_orders')\n",
    "temp_1 = temp.groupby('user_id')['user_avg_days_between_orders'].mean().reset_index()"
   ]
  },
  {
   "cell_type": "code",
   "execution_count": 77,
   "id": "mighty-acting",
   "metadata": {},
   "outputs": [],
   "source": [
    "user_features = user_features.merge(temp_1,on=\"user_id\",how=\"left\")"
   ]
  },
  {
   "cell_type": "code",
   "execution_count": 78,
   "id": "aggregate-eugene",
   "metadata": {},
   "outputs": [
    {
     "data": {
      "text/html": [
       "<div>\n",
       "<style scoped>\n",
       "    .dataframe tbody tr th:only-of-type {\n",
       "        vertical-align: middle;\n",
       "    }\n",
       "\n",
       "    .dataframe tbody tr th {\n",
       "        vertical-align: top;\n",
       "    }\n",
       "\n",
       "    .dataframe thead th {\n",
       "        text-align: right;\n",
       "    }\n",
       "</style>\n",
       "<table border=\"1\" class=\"dataframe\">\n",
       "  <thead>\n",
       "    <tr style=\"text-align: right;\">\n",
       "      <th></th>\n",
       "      <th>user_id</th>\n",
       "      <th>reordered</th>\n",
       "      <th>reorder_rate</th>\n",
       "      <th>unique_products</th>\n",
       "      <th>user_total_products</th>\n",
       "      <th>avg_cart_size</th>\n",
       "      <th>user_avg_days_between_orders</th>\n",
       "    </tr>\n",
       "  </thead>\n",
       "  <tbody>\n",
       "    <tr>\n",
       "      <th>0</th>\n",
       "      <td>1</td>\n",
       "      <td>1.0</td>\n",
       "      <td>0.694915</td>\n",
       "      <td>18</td>\n",
       "      <td>59</td>\n",
       "      <td>5.900000</td>\n",
       "      <td>17.600000</td>\n",
       "    </tr>\n",
       "    <tr>\n",
       "      <th>1</th>\n",
       "      <td>2</td>\n",
       "      <td>1.0</td>\n",
       "      <td>0.476923</td>\n",
       "      <td>102</td>\n",
       "      <td>195</td>\n",
       "      <td>13.928571</td>\n",
       "      <td>14.142857</td>\n",
       "    </tr>\n",
       "    <tr>\n",
       "      <th>2</th>\n",
       "      <td>3</td>\n",
       "      <td>1.0</td>\n",
       "      <td>0.625000</td>\n",
       "      <td>33</td>\n",
       "      <td>88</td>\n",
       "      <td>7.333333</td>\n",
       "      <td>11.083333</td>\n",
       "    </tr>\n",
       "    <tr>\n",
       "      <th>3</th>\n",
       "      <td>4</td>\n",
       "      <td>1.0</td>\n",
       "      <td>0.055556</td>\n",
       "      <td>17</td>\n",
       "      <td>18</td>\n",
       "      <td>3.600000</td>\n",
       "      <td>11.000000</td>\n",
       "    </tr>\n",
       "    <tr>\n",
       "      <th>4</th>\n",
       "      <td>5</td>\n",
       "      <td>1.0</td>\n",
       "      <td>0.378378</td>\n",
       "      <td>23</td>\n",
       "      <td>37</td>\n",
       "      <td>9.250000</td>\n",
       "      <td>10.000000</td>\n",
       "    </tr>\n",
       "  </tbody>\n",
       "</table>\n",
       "</div>"
      ],
      "text/plain": [
       "   user_id  reordered  reorder_rate  unique_products  user_total_products  \\\n",
       "0        1        1.0      0.694915               18                   59   \n",
       "1        2        1.0      0.476923              102                  195   \n",
       "2        3        1.0      0.625000               33                   88   \n",
       "3        4        1.0      0.055556               17                   18   \n",
       "4        5        1.0      0.378378               23                   37   \n",
       "\n",
       "   avg_cart_size  user_avg_days_between_orders  \n",
       "0       5.900000                     17.600000  \n",
       "1      13.928571                     14.142857  \n",
       "2       7.333333                     11.083333  \n",
       "3       3.600000                     11.000000  \n",
       "4       9.250000                     10.000000  "
      ]
     },
     "execution_count": 78,
     "metadata": {},
     "output_type": "execute_result"
    }
   ],
   "source": [
    "user_features.head(5)"
   ]
  },
  {
   "cell_type": "code",
   "execution_count": 80,
   "id": "ranking-sodium",
   "metadata": {},
   "outputs": [],
   "source": [
    "# https://www.kaggle.com/c/instacart-market-basket-analysis/discussion/38100\n",
    "#get user product reorder ratio \n",
    "# \n",
    "    # number of unique products reordered / number of unique products ordered\n",
    "df = pd.DataFrame()\n",
    "df['user_id'] = df_prior['user_id'].sort_values().unique()\n",
    "df['user_unique_products'] = df_prior.groupby([\"user_id\"])['product_name'].nunique().reset_index(name = 'unique')['unique']\n",
    "df['user_reordered_products'] = df_prior[df_prior['reordered']==1].groupby([\"user_id\"])['product_name'].nunique().reset_index(name = 'reordered_unique')['reordered_unique']\n",
    "df.fillna(0, inplace = True)"
   ]
  },
  {
   "cell_type": "code",
   "execution_count": 82,
   "id": "improving-centre",
   "metadata": {},
   "outputs": [],
   "source": [
    "df[\"user_reordered_products_ratio\"] = df['user_reordered_products'] / df['user_unique_products']"
   ]
  },
  {
   "cell_type": "code",
   "execution_count": 84,
   "id": "banned-sister",
   "metadata": {},
   "outputs": [
    {
     "name": "stdout",
     "output_type": "stream",
     "text": [
      "Wall time: 168 ms\n"
     ]
    }
   ],
   "source": [
    "%%time\n",
    "user_features = user_features.merge(df,on=\"user_id\",how=\"left\")\n",
    "pickle.dump(user_features,open(\"new_features/user_features.pkl\",\"wb\"))"
   ]
  },
  {
   "cell_type": "markdown",
   "id": "joined-admission",
   "metadata": {},
   "source": [
    "<h2> user product features </h2>"
   ]
  },
  {
   "cell_type": "code",
   "execution_count": 95,
   "id": "inside-denmark",
   "metadata": {},
   "outputs": [
    {
     "name": "stdout",
     "output_type": "stream",
     "text": [
      "Wall time: 0 ns\n"
     ]
    }
   ],
   "source": [
    "%%time\n",
    "user_product_features = pd.DataFrame(columns=['user_id','product_id'])"
   ]
  },
  {
   "cell_type": "code",
   "execution_count": 96,
   "id": "solid-supervisor",
   "metadata": {},
   "outputs": [
    {
     "name": "stdout",
     "output_type": "stream",
     "text": [
      "Wall time: 22.4 s\n"
     ]
    }
   ],
   "source": [
    "%%time\n",
    "temp = df_prior.groupby([\"user_id\",\"product_id\"]).size().reset_index()\n",
    "user_product_features[\"user_id\"] = temp[\"user_id\"]\n",
    "user_product_features[\"product_id\"] = temp[\"product_id\"]"
   ]
  },
  {
   "cell_type": "code",
   "execution_count": 97,
   "id": "binding-chassis",
   "metadata": {},
   "outputs": [
    {
     "data": {
      "text/plain": [
       "(13307953, 2)"
      ]
     },
     "execution_count": 97,
     "metadata": {},
     "output_type": "execute_result"
    }
   ],
   "source": [
    "user_product_features.shape"
   ]
  },
  {
   "cell_type": "code",
   "execution_count": 98,
   "id": "assigned-merchant",
   "metadata": {},
   "outputs": [
    {
     "name": "stdout",
     "output_type": "stream",
     "text": [
      "Wall time: 21.5 s\n"
     ]
    }
   ],
   "source": [
    "%%time\n",
    "# frequently user ordered the product\n",
    "#times user ordered the product/ #times user placed an order\n",
    "temp = df_prior.groupby([\"user_id\",\"product_id\"])[\"reordered\"].size()\n",
    "temp = (temp/df_prior.groupby([\"user_id\"]).size()).reset_index(name = 'user_product_order_rate')\n"
   ]
  },
  {
   "cell_type": "code",
   "execution_count": 99,
   "id": "adverse-helen",
   "metadata": {},
   "outputs": [
    {
     "name": "stdout",
     "output_type": "stream",
     "text": [
      "Wall time: 13.3 s\n"
     ]
    }
   ],
   "source": [
    "%%time\n",
    "user_product_features = user_product_features.merge(temp,on=[\"user_id\",\"product_id\"],how=\"left\").fillna(0)"
   ]
  },
  {
   "cell_type": "code",
   "execution_count": 100,
   "id": "annual-institute",
   "metadata": {},
   "outputs": [
    {
     "data": {
      "text/html": [
       "<div>\n",
       "<style scoped>\n",
       "    .dataframe tbody tr th:only-of-type {\n",
       "        vertical-align: middle;\n",
       "    }\n",
       "\n",
       "    .dataframe tbody tr th {\n",
       "        vertical-align: top;\n",
       "    }\n",
       "\n",
       "    .dataframe thead th {\n",
       "        text-align: right;\n",
       "    }\n",
       "</style>\n",
       "<table border=\"1\" class=\"dataframe\">\n",
       "  <thead>\n",
       "    <tr style=\"text-align: right;\">\n",
       "      <th></th>\n",
       "      <th>user_id</th>\n",
       "      <th>product_id</th>\n",
       "      <th>user_product_order_rate</th>\n",
       "    </tr>\n",
       "  </thead>\n",
       "  <tbody>\n",
       "    <tr>\n",
       "      <th>0</th>\n",
       "      <td>1</td>\n",
       "      <td>196</td>\n",
       "      <td>0.169492</td>\n",
       "    </tr>\n",
       "    <tr>\n",
       "      <th>1</th>\n",
       "      <td>1</td>\n",
       "      <td>10258</td>\n",
       "      <td>0.152542</td>\n",
       "    </tr>\n",
       "    <tr>\n",
       "      <th>2</th>\n",
       "      <td>1</td>\n",
       "      <td>10326</td>\n",
       "      <td>0.016949</td>\n",
       "    </tr>\n",
       "    <tr>\n",
       "      <th>3</th>\n",
       "      <td>1</td>\n",
       "      <td>12427</td>\n",
       "      <td>0.169492</td>\n",
       "    </tr>\n",
       "    <tr>\n",
       "      <th>4</th>\n",
       "      <td>1</td>\n",
       "      <td>13032</td>\n",
       "      <td>0.050847</td>\n",
       "    </tr>\n",
       "    <tr>\n",
       "      <th>...</th>\n",
       "      <td>...</td>\n",
       "      <td>...</td>\n",
       "      <td>...</td>\n",
       "    </tr>\n",
       "    <tr>\n",
       "      <th>13307948</th>\n",
       "      <td>206209</td>\n",
       "      <td>43961</td>\n",
       "      <td>0.023256</td>\n",
       "    </tr>\n",
       "    <tr>\n",
       "      <th>13307949</th>\n",
       "      <td>206209</td>\n",
       "      <td>44325</td>\n",
       "      <td>0.007752</td>\n",
       "    </tr>\n",
       "    <tr>\n",
       "      <th>13307950</th>\n",
       "      <td>206209</td>\n",
       "      <td>48370</td>\n",
       "      <td>0.007752</td>\n",
       "    </tr>\n",
       "    <tr>\n",
       "      <th>13307951</th>\n",
       "      <td>206209</td>\n",
       "      <td>48697</td>\n",
       "      <td>0.007752</td>\n",
       "    </tr>\n",
       "    <tr>\n",
       "      <th>13307952</th>\n",
       "      <td>206209</td>\n",
       "      <td>48742</td>\n",
       "      <td>0.015504</td>\n",
       "    </tr>\n",
       "  </tbody>\n",
       "</table>\n",
       "<p>13307953 rows × 3 columns</p>\n",
       "</div>"
      ],
      "text/plain": [
       "          user_id  product_id  user_product_order_rate\n",
       "0               1         196                 0.169492\n",
       "1               1       10258                 0.152542\n",
       "2               1       10326                 0.016949\n",
       "3               1       12427                 0.169492\n",
       "4               1       13032                 0.050847\n",
       "...           ...         ...                      ...\n",
       "13307948   206209       43961                 0.023256\n",
       "13307949   206209       44325                 0.007752\n",
       "13307950   206209       48370                 0.007752\n",
       "13307951   206209       48697                 0.007752\n",
       "13307952   206209       48742                 0.015504\n",
       "\n",
       "[13307953 rows x 3 columns]"
      ]
     },
     "execution_count": 100,
     "metadata": {},
     "output_type": "execute_result"
    }
   ],
   "source": [
    "user_product_features"
   ]
  },
  {
   "cell_type": "code",
   "execution_count": 102,
   "id": "brief-greensboro",
   "metadata": {},
   "outputs": [
    {
     "name": "stdout",
     "output_type": "stream",
     "text": [
      "Wall time: 1min 9s\n"
     ]
    }
   ],
   "source": [
    "%%time\n",
    "# How frequently user reordered the product\n",
    "#times user reordered the product/ #times user ordered the product\n",
    "temp = df_prior[df_prior[\"reordered\"]==1].groupby([\"user_id\",\"product_id\"])[\"reordered\"].size()\n",
    "temp = (temp/df_prior.groupby([\"user_id\",\"product_id\"]).size()).reset_index(name = 'user_product_reorder_rate')"
   ]
  },
  {
   "cell_type": "code",
   "execution_count": 104,
   "id": "loved-reporter",
   "metadata": {},
   "outputs": [
    {
     "name": "stdout",
     "output_type": "stream",
     "text": [
      "Wall time: 13.6 s\n"
     ]
    }
   ],
   "source": [
    "%%time\n",
    "user_product_features = user_product_features.merge(temp,on=[\"user_id\",\"product_id\"],how=\"left\").fillna(0)"
   ]
  },
  {
   "cell_type": "code",
   "execution_count": 105,
   "id": "pursuant-practitioner",
   "metadata": {},
   "outputs": [
    {
     "name": "stdout",
     "output_type": "stream",
     "text": [
      "Wall time: 20.9 s\n"
     ]
    }
   ],
   "source": [
    "%%time\n",
    "# Average position of product in the cart on orders placed by user\n",
    "temp = df_prior.groupby([\"user_id\",\"product_id\"])['add_to_cart_order'].mean().reset_index(name = 'user_product_avg_position')"
   ]
  },
  {
   "cell_type": "code",
   "execution_count": 107,
   "id": "parental-estimate",
   "metadata": {},
   "outputs": [
    {
     "name": "stdout",
     "output_type": "stream",
     "text": [
      "Wall time: 13.7 s\n"
     ]
    }
   ],
   "source": [
    "%%time\n",
    "user_product_features = user_product_features.merge(temp,on=[\"user_id\",\"product_id\"],how=\"left\").fillna(0)"
   ]
  },
  {
   "cell_type": "code",
   "execution_count": 108,
   "id": "forbidden-parcel",
   "metadata": {},
   "outputs": [
    {
     "name": "stdout",
     "output_type": "stream",
     "text": [
      "Wall time: 28.3 s\n"
     ]
    }
   ],
   "source": [
    "%%time\n",
    "#Number of orders placed since the product was last ordered ?\n",
    "# Get last order_number placed by user , subtract with last order_number with the product in cart \n",
    "\n",
    "temp_1 = df_prior.groupby([\"user_id\",\"product_id\"])['order_number'].max().reset_index()\n",
    "temp_2 = df_prior.groupby([\"user_id\"])['order_number'].max().reset_index()\n",
    "new_df = pd.merge(temp_1, temp_2,  how='outer', left_on=['user_id'], right_on = ['user_id'])        \n",
    "new_df['user_product_orders_since_last'] = new_df['order_number_y'] - new_df['order_number_x']"
   ]
  },
  {
   "cell_type": "code",
   "execution_count": 110,
   "id": "banned-guitar",
   "metadata": {},
   "outputs": [],
   "source": [
    "new_df = new_df.drop([\"order_number_x\",\"order_number_y\"],axis=1)\n",
    "user_product_features = user_product_features.merge(new_df,on=[\"user_id\",\"product_id\"],how=\"left\").fillna(0)"
   ]
  },
  {
   "cell_type": "code",
   "execution_count": 113,
   "id": "boring-style",
   "metadata": {},
   "outputs": [],
   "source": [
    "pickle.dump(user_product_features,open(\"new_features/user_product_features.pkl\",\"wb\"))"
   ]
  },
  {
   "cell_type": "code",
   "execution_count": null,
   "id": "reported-relevance",
   "metadata": {},
   "outputs": [],
   "source": []
  },
  {
   "cell_type": "code",
   "execution_count": 5,
   "id": "amazing-ebony",
   "metadata": {},
   "outputs": [
    {
     "name": "stdout",
     "output_type": "stream",
     "text": [
      "Wall time: 7.65 s\n"
     ]
    }
   ],
   "source": [
    "%%time\n",
    "# day_reorder_rate\n",
    "temp = df_prior.groupby(['product_id','order_hour_of_day'])[\"reordered\"].size()\n",
    "# temp = (df/df_prior.groupby([\"product_id\"]).size()).reset_index(name = 'hour_reorder_rate')"
   ]
  },
  {
   "cell_type": "code",
   "execution_count": 6,
   "id": "lesser-swaziland",
   "metadata": {},
   "outputs": [],
   "source": [
    "temp = temp/df_prior.groupby([\"product_id\"]).size()"
   ]
  },
  {
   "cell_type": "code",
   "execution_count": 7,
   "id": "packed-edition",
   "metadata": {},
   "outputs": [],
   "source": [
    "temp = temp.reset_index(name = 'hour_reorder_rate')"
   ]
  },
  {
   "cell_type": "code",
   "execution_count": 8,
   "id": "proof-decimal",
   "metadata": {},
   "outputs": [],
   "source": [
    "pickle.dump(temp,open(\"new_features/hour_reorder_rate.pkl\",\"wb\"))"
   ]
  },
  {
   "cell_type": "code",
   "execution_count": 4,
   "id": "mysterious-boundary",
   "metadata": {},
   "outputs": [
    {
     "name": "stdout",
     "output_type": "stream",
     "text": [
      "Wall time: 9.93 s\n"
     ]
    }
   ],
   "source": [
    "%%time\n",
    "# product_days_since_prior_order_reorder_rate\n",
    "temp = df_prior.groupby(['product_id','days_since_prior_order'])[\"reordered\"].size()\n",
    "temp = (temp/df_prior.groupby([\"product_id\"]).size())\n",
    "temp = temp.reset_index(name = 'product_days_since_prior_order_reorder_rate')\n",
    "pickle.dump(temp,open(\"new_features/product_days_since_prior_order_reorder_rate.pkl\",\"wb\"))"
   ]
  },
  {
   "cell_type": "code",
   "execution_count": 9,
   "id": "liberal-communications",
   "metadata": {},
   "outputs": [
    {
     "name": "stdout",
     "output_type": "stream",
     "text": [
      "Wall time: 9.03 s\n"
     ]
    }
   ],
   "source": [
    "%%time\n",
    "# product_days_since_prior_order_reorder_rate\n",
    "temp = df_prior.groupby(['product_id','order_dow'])[\"reordered\"].size()\n",
    "temp = (temp/df_prior.groupby([\"product_id\"]).size())\n",
    "temp = temp.reset_index(name = 'day_reorder_rate')\n",
    "pickle.dump(temp,open(\"new_features/day_reorder_rate.pkl\",\"wb\"))"
   ]
  },
  {
   "cell_type": "code",
   "execution_count": 10,
   "id": "charged-hardware",
   "metadata": {},
   "outputs": [
    {
     "name": "stdout",
     "output_type": "stream",
     "text": [
      "Wall time: 8.21 s\n"
     ]
    }
   ],
   "source": [
    "%%time\n",
    "# product_days_since_prior_order_reorder_rate\n",
    "temp = df_prior.groupby(['user_id','days_since_prior_order'])[\"reordered\"].size()\n",
    "temp = (temp/df_prior.groupby([\"user_id\"]).size())\n",
    "temp = temp.reset_index(name = 'user_days_since_prior_order_reorder_rate')\n",
    "pickle.dump(temp,open(\"new_features/user_days_since_prior_order_reorder_rate.pkl\",\"wb\"))"
   ]
  },
  {
   "cell_type": "code",
   "execution_count": 11,
   "id": "vanilla-indicator",
   "metadata": {},
   "outputs": [
    {
     "name": "stdout",
     "output_type": "stream",
     "text": [
      "Wall time: 25min 26s\n"
     ]
    }
   ],
   "source": [
    "%%time\n",
    "# product_days_since_prior_order_reorder_rate\n",
    "temp = df_prior.groupby(['user_id',\"product_id\",'days_since_prior_order'])[\"reordered\"].size()\n",
    "temp = (temp/df_prior.groupby([\"user_id\",\"product_id\"]).size())\n",
    "temp = temp.reset_index(name = 'days_since_prior_reorder_rate')\n",
    "pickle.dump(temp,open(\"new_features/days_since_prior_reorder_rate.pkl\",\"wb\"))"
   ]
  },
  {
   "cell_type": "markdown",
   "id": "improving-girlfriend",
   "metadata": {},
   "source": [
    "<h2> user  features for first 15 days of the month </h2>"
   ]
  },
  {
   "cell_type": "code",
   "execution_count": null,
   "id": "humanitarian-johns",
   "metadata": {},
   "outputs": [],
   "source": [
    "# https://www.kaggle.com/c/instacart-market-basket-analysis/discussion/38098"
   ]
  },
  {
   "cell_type": "code",
   "execution_count": 67,
   "id": "following-ultimate",
   "metadata": {},
   "outputs": [],
   "source": [
    "df_f15 = df_prior[df_prior[\"days_since_prior_order\"] <=15]"
   ]
  },
  {
   "cell_type": "code",
   "execution_count": 68,
   "id": "blocked-teens",
   "metadata": {},
   "outputs": [
    {
     "name": "stdout",
     "output_type": "stream",
     "text": [
      "Wall time: 5.93 s\n"
     ]
    }
   ],
   "source": [
    "%%time\n",
    "user_features_f15 = pd.DataFrame(columns=['user_id'])\n",
    "user_features_f15['user_id'] = df_f15['user_id'].sort_values().unique()"
   ]
  },
  {
   "cell_type": "code",
   "execution_count": 69,
   "id": "offshore-dining",
   "metadata": {},
   "outputs": [
    {
     "name": "stdout",
     "output_type": "stream",
     "text": [
      "Wall time: 3min 40s\n"
     ]
    }
   ],
   "source": [
    "%%time\n",
    "# user reorder rate\n",
    "user_reorder_rate = df_f15.groupby([\"user_id\",\"reordered\"])['reordered'].count().groupby(level = 0).apply(lambda x: x / float(x.sum())).reset_index(name='reorder_rate_f15')"
   ]
  },
  {
   "cell_type": "code",
   "execution_count": 70,
   "id": "known-major",
   "metadata": {},
   "outputs": [],
   "source": [
    "user_reorder_rate = user_reorder_rate[user_reorder_rate[\"reordered\"]==1]"
   ]
  },
  {
   "cell_type": "code",
   "execution_count": 71,
   "id": "african-party",
   "metadata": {},
   "outputs": [],
   "source": [
    "user_reorder_rate = user_reorder_rate.drop(\"reordered\",axis=1)"
   ]
  },
  {
   "cell_type": "code",
   "execution_count": 72,
   "id": "strange-hours",
   "metadata": {},
   "outputs": [],
   "source": [
    "user_features_f15 = user_features_f15.merge(user_reorder_rate,on=\"user_id\",how = \"left\").fillna(0)"
   ]
  },
  {
   "cell_type": "code",
   "execution_count": 73,
   "id": "intimate-identity",
   "metadata": {},
   "outputs": [
    {
     "name": "stdout",
     "output_type": "stream",
     "text": [
      "Wall time: 1min 17s\n"
     ]
    }
   ],
   "source": [
    "%%time\n",
    "# no of unique products and total products  by user\n",
    "temp = df_f15.groupby([\"user_id\"])['product_name'].nunique().reset_index(name = 'unique_products_f15')\n",
    "user_features_f15 = user_features_f15.merge(temp,on=\"user_id\",how=\"left\")\n",
    "\n",
    "temp = df_f15.groupby([\"user_id\"])['product_name'].size().reset_index(name = 'user_total_products_f15')\n",
    "user_features_f15 = user_features_f15.merge(temp,on=\"user_id\",how=\"left\")\n"
   ]
  },
  {
   "cell_type": "code",
   "execution_count": 74,
   "id": "animated-cologne",
   "metadata": {},
   "outputs": [
    {
     "name": "stdout",
     "output_type": "stream",
     "text": [
      "Wall time: 6.57 s\n"
     ]
    }
   ],
   "source": [
    "%%time\n",
    "# avg cart size\n",
    "temp = df_f15.groupby([\"user_id\",\"order_id\"])['add_to_cart_order'].count().reset_index(name='avg_cart_size_f15')\n",
    "temp_1 = temp.groupby('user_id')['avg_cart_size_f15'].mean().reset_index()"
   ]
  },
  {
   "cell_type": "code",
   "execution_count": 75,
   "id": "focal-today",
   "metadata": {},
   "outputs": [],
   "source": [
    "user_features_f15 = user_features_f15.merge(temp_1,on=\"user_id\",how=\"left\")"
   ]
  },
  {
   "cell_type": "code",
   "execution_count": 76,
   "id": "rental-cliff",
   "metadata": {},
   "outputs": [
    {
     "name": "stdout",
     "output_type": "stream",
     "text": [
      "Wall time: 7.21 s\n"
     ]
    }
   ],
   "source": [
    "%%time\n",
    "#Get average days between 2 orders for every user\n",
    "temp = df_f15.groupby([\"user_id\",\"order_id\"])['days_since_prior_order'].max().reset_index(name='user_avg_days_between_orders_f15')\n",
    "temp_1 = temp.groupby('user_id')['user_avg_days_between_orders_f15'].mean().reset_index()"
   ]
  },
  {
   "cell_type": "code",
   "execution_count": 77,
   "id": "american-agreement",
   "metadata": {},
   "outputs": [
    {
     "name": "stdout",
     "output_type": "stream",
     "text": [
      "Wall time: 148 ms\n"
     ]
    }
   ],
   "source": [
    "%%time\n",
    "user_features_f15 = user_features_f15.merge(temp_1,on=\"user_id\",how=\"left\")"
   ]
  },
  {
   "cell_type": "code",
   "execution_count": 78,
   "id": "listed-adolescent",
   "metadata": {},
   "outputs": [
    {
     "name": "stdout",
     "output_type": "stream",
     "text": [
      "Wall time: 2min 17s\n"
     ]
    }
   ],
   "source": [
    "%%time\n",
    "#get user product reorder ratio \n",
    "    # number of unique products reordered / number of unique products ordered\n",
    "df = pd.DataFrame()\n",
    "df['user_id'] = df_f15['user_id'].sort_values().unique()\n",
    "df['user_unique_products'] = df_f15.groupby([\"user_id\"])['product_name'].nunique().reset_index(name = 'unique')['unique']\n",
    "df['user_reordered_products'] = df_f15[df_prior['reordered']==1].groupby([\"user_id\"])['product_name'].nunique().reset_index(name = 'reordered_unique')['reordered_unique']\n",
    "df.fillna(0, inplace = True)"
   ]
  },
  {
   "cell_type": "code",
   "execution_count": 79,
   "id": "australian-vacuum",
   "metadata": {},
   "outputs": [],
   "source": [
    "df[\"user_reordered_products_ratio_f15\"] = df['user_reordered_products'] / df['user_unique_products']"
   ]
  },
  {
   "cell_type": "code",
   "execution_count": 80,
   "id": "second-knowing",
   "metadata": {},
   "outputs": [
    {
     "name": "stdout",
     "output_type": "stream",
     "text": [
      "Wall time: 284 ms\n"
     ]
    }
   ],
   "source": [
    "%%time\n",
    "user_features_f15 = user_features_f15.merge(df,on=\"user_id\",how=\"left\")\n",
    "pickle.dump(user_features_f15,open(\"new_features/user_features_f15.pkl\",\"wb\"))"
   ]
  },
  {
   "cell_type": "code",
   "execution_count": 87,
   "id": "accessible-voice",
   "metadata": {},
   "outputs": [
    {
     "data": {
      "text/plain": [
       "Index(['user_id', 'reorder_rate_f15', 'unique_products_f15',\n",
       "       'user_total_products_f15', 'avg_cart_size_f15',\n",
       "       'user_avg_days_between_orders_f15', 'user_unique_products_ordered_f15',\n",
       "       'user_reordered_products_f15', 'user_reordered_products_ratio_f15'],\n",
       "      dtype='object')"
      ]
     },
     "execution_count": 87,
     "metadata": {},
     "output_type": "execute_result"
    }
   ],
   "source": [
    "user_features_f15.columns"
   ]
  },
  {
   "cell_type": "code",
   "execution_count": 86,
   "id": "structural-current",
   "metadata": {},
   "outputs": [],
   "source": [
    "user_features_f15 = user_features_f15.rename(columns={\"user_unique_products\":\"user_unique_products_ordered_f15\",\"user_reordered_products\":\"user_reordered_products_f15\"})"
   ]
  },
  {
   "cell_type": "code",
   "execution_count": 90,
   "id": "czech-float",
   "metadata": {},
   "outputs": [],
   "source": [
    "user_features_f15 = user_features_f15.drop(\"user_unique_products_ordered_f15\",axis=1)"
   ]
  },
  {
   "cell_type": "code",
   "execution_count": 91,
   "id": "partial-america",
   "metadata": {},
   "outputs": [],
   "source": [
    "pickle.dump(user_features_f15,open(\"new_features/user_features_f15.pkl\",\"wb\"))"
   ]
  },
  {
   "cell_type": "code",
   "execution_count": 92,
   "id": "champion-chambers",
   "metadata": {},
   "outputs": [
    {
     "data": {
      "text/html": [
       "<div>\n",
       "<style scoped>\n",
       "    .dataframe tbody tr th:only-of-type {\n",
       "        vertical-align: middle;\n",
       "    }\n",
       "\n",
       "    .dataframe tbody tr th {\n",
       "        vertical-align: top;\n",
       "    }\n",
       "\n",
       "    .dataframe thead th {\n",
       "        text-align: right;\n",
       "    }\n",
       "</style>\n",
       "<table border=\"1\" class=\"dataframe\">\n",
       "  <thead>\n",
       "    <tr style=\"text-align: right;\">\n",
       "      <th></th>\n",
       "      <th>user_id</th>\n",
       "      <th>reorder_rate_f15</th>\n",
       "      <th>unique_products_f15</th>\n",
       "      <th>user_total_products_f15</th>\n",
       "      <th>avg_cart_size_f15</th>\n",
       "      <th>user_avg_days_between_orders_f15</th>\n",
       "      <th>user_reordered_products_f15</th>\n",
       "      <th>user_reordered_products_ratio_f15</th>\n",
       "    </tr>\n",
       "  </thead>\n",
       "  <tbody>\n",
       "    <tr>\n",
       "      <th>0</th>\n",
       "      <td>1</td>\n",
       "      <td>0.565217</td>\n",
       "      <td>11</td>\n",
       "      <td>23</td>\n",
       "      <td>5.750000</td>\n",
       "      <td>7.250000</td>\n",
       "      <td>7.0</td>\n",
       "      <td>0.636364</td>\n",
       "    </tr>\n",
       "    <tr>\n",
       "      <th>1</th>\n",
       "      <td>2</td>\n",
       "      <td>0.448529</td>\n",
       "      <td>77</td>\n",
       "      <td>136</td>\n",
       "      <td>13.600000</td>\n",
       "      <td>8.300000</td>\n",
       "      <td>31.0</td>\n",
       "      <td>0.402597</td>\n",
       "    </tr>\n",
       "    <tr>\n",
       "      <th>2</th>\n",
       "      <td>3</td>\n",
       "      <td>0.647887</td>\n",
       "      <td>29</td>\n",
       "      <td>71</td>\n",
       "      <td>7.888889</td>\n",
       "      <td>8.333333</td>\n",
       "      <td>19.0</td>\n",
       "      <td>0.655172</td>\n",
       "    </tr>\n",
       "    <tr>\n",
       "      <th>3</th>\n",
       "      <td>4</td>\n",
       "      <td>0.000000</td>\n",
       "      <td>9</td>\n",
       "      <td>9</td>\n",
       "      <td>3.000000</td>\n",
       "      <td>5.000000</td>\n",
       "      <td>4.0</td>\n",
       "      <td>0.444444</td>\n",
       "    </tr>\n",
       "    <tr>\n",
       "      <th>4</th>\n",
       "      <td>5</td>\n",
       "      <td>0.240000</td>\n",
       "      <td>19</td>\n",
       "      <td>25</td>\n",
       "      <td>8.333333</td>\n",
       "      <td>7.000000</td>\n",
       "      <td>2.0</td>\n",
       "      <td>0.105263</td>\n",
       "    </tr>\n",
       "  </tbody>\n",
       "</table>\n",
       "</div>"
      ],
      "text/plain": [
       "   user_id  reorder_rate_f15  unique_products_f15  user_total_products_f15  \\\n",
       "0        1          0.565217                   11                       23   \n",
       "1        2          0.448529                   77                      136   \n",
       "2        3          0.647887                   29                       71   \n",
       "3        4          0.000000                    9                        9   \n",
       "4        5          0.240000                   19                       25   \n",
       "\n",
       "   avg_cart_size_f15  user_avg_days_between_orders_f15  \\\n",
       "0           5.750000                          7.250000   \n",
       "1          13.600000                          8.300000   \n",
       "2           7.888889                          8.333333   \n",
       "3           3.000000                          5.000000   \n",
       "4           8.333333                          7.000000   \n",
       "\n",
       "   user_reordered_products_f15  user_reordered_products_ratio_f15  \n",
       "0                          7.0                           0.636364  \n",
       "1                         31.0                           0.402597  \n",
       "2                         19.0                           0.655172  \n",
       "3                          4.0                           0.444444  \n",
       "4                          2.0                           0.105263  "
      ]
     },
     "execution_count": 92,
     "metadata": {},
     "output_type": "execute_result"
    }
   ],
   "source": [
    "user_features_f15.head(5)"
   ]
  },
  {
   "cell_type": "markdown",
   "id": "solid-hybrid",
   "metadata": {},
   "source": [
    "<h2> user features for last 15 days </h2>"
   ]
  },
  {
   "cell_type": "code",
   "execution_count": 116,
   "id": "lesbian-pleasure",
   "metadata": {},
   "outputs": [],
   "source": [
    "df_l15 = df_prior[df_prior[\"days_since_prior_order\"] >15]"
   ]
  },
  {
   "cell_type": "code",
   "execution_count": 117,
   "id": "changing-sigma",
   "metadata": {},
   "outputs": [
    {
     "name": "stdout",
     "output_type": "stream",
     "text": [
      "Wall time: 1.11 s\n"
     ]
    }
   ],
   "source": [
    "%%time\n",
    "user_features_l15 = pd.DataFrame(columns=['user_id'])\n",
    "user_features_l15['user_id'] = df_l15['user_id'].sort_values().unique()"
   ]
  },
  {
   "cell_type": "code",
   "execution_count": 118,
   "id": "alternate-massachusetts",
   "metadata": {},
   "outputs": [
    {
     "name": "stdout",
     "output_type": "stream",
     "text": [
      "Wall time: 3min 17s\n"
     ]
    }
   ],
   "source": [
    "%%time\n",
    "# user reorder rate\n",
    "user_reorder_rate = df_l15.groupby([\"user_id\",\"reordered\"])['reordered'].count().groupby(level = 0).apply(lambda x: x / float(x.sum())).reset_index(name='reorder_rate_l15')"
   ]
  },
  {
   "cell_type": "code",
   "execution_count": 122,
   "id": "convenient-tower",
   "metadata": {},
   "outputs": [],
   "source": [
    "user_reorder_rate = user_reorder_rate[user_reorder_rate[\"reordered\"]==1]\n",
    "user_reorder_rate = user_reorder_rate.drop(\"reordered\",axis=1)\n",
    "user_features_l15 = user_features_l15.merge(user_reorder_rate,on=\"user_id\",how = \"left\").fillna(0)"
   ]
  },
  {
   "cell_type": "code",
   "execution_count": 128,
   "id": "about-tribune",
   "metadata": {},
   "outputs": [
    {
     "name": "stdout",
     "output_type": "stream",
     "text": [
      "Wall time: 17.5 s\n"
     ]
    }
   ],
   "source": [
    "%%time\n",
    "# no of unique products and total products  by user\n",
    "temp = df_l15.groupby([\"user_id\"])['product_name'].nunique().reset_index(name = 'unique_products_l15')\n",
    "user_features_l15 = user_features_l15.merge(temp,on=\"user_id\",how=\"left\")\n",
    "\n",
    "temp = df_l15.groupby([\"user_id\"])['product_name'].size().reset_index(name = 'user_total_products_l15')\n",
    "user_features_l15 = user_features_l15.merge(temp,on=\"user_id\",how=\"left\")\n"
   ]
  },
  {
   "cell_type": "code",
   "execution_count": 133,
   "id": "marine-turtle",
   "metadata": {},
   "outputs": [
    {
     "data": {
      "text/html": [
       "<div>\n",
       "<style scoped>\n",
       "    .dataframe tbody tr th:only-of-type {\n",
       "        vertical-align: middle;\n",
       "    }\n",
       "\n",
       "    .dataframe tbody tr th {\n",
       "        vertical-align: top;\n",
       "    }\n",
       "\n",
       "    .dataframe thead th {\n",
       "        text-align: right;\n",
       "    }\n",
       "</style>\n",
       "<table border=\"1\" class=\"dataframe\">\n",
       "  <thead>\n",
       "    <tr style=\"text-align: right;\">\n",
       "      <th></th>\n",
       "      <th>user_id</th>\n",
       "      <th>reorder_rate_l15</th>\n",
       "      <th>unique_products_l15</th>\n",
       "      <th>user_total_products_l15</th>\n",
       "      <th>avg_cart_size_l15</th>\n",
       "      <th>user_avg_days_between_orders_l15</th>\n",
       "    </tr>\n",
       "  </thead>\n",
       "  <tbody>\n",
       "    <tr>\n",
       "      <th>0</th>\n",
       "      <td>1</td>\n",
       "      <td>0.777778</td>\n",
       "      <td>15</td>\n",
       "      <td>36</td>\n",
       "      <td>6.000000</td>\n",
       "      <td>24.500000</td>\n",
       "    </tr>\n",
       "    <tr>\n",
       "      <th>1</th>\n",
       "      <td>2</td>\n",
       "      <td>0.542373</td>\n",
       "      <td>47</td>\n",
       "      <td>59</td>\n",
       "      <td>14.750000</td>\n",
       "      <td>28.750000</td>\n",
       "    </tr>\n",
       "    <tr>\n",
       "      <th>2</th>\n",
       "      <td>3</td>\n",
       "      <td>0.529412</td>\n",
       "      <td>15</td>\n",
       "      <td>17</td>\n",
       "      <td>5.666667</td>\n",
       "      <td>19.333333</td>\n",
       "    </tr>\n",
       "    <tr>\n",
       "      <th>3</th>\n",
       "      <td>4</td>\n",
       "      <td>0.111111</td>\n",
       "      <td>9</td>\n",
       "      <td>9</td>\n",
       "      <td>4.500000</td>\n",
       "      <td>20.000000</td>\n",
       "    </tr>\n",
       "    <tr>\n",
       "      <th>4</th>\n",
       "      <td>5</td>\n",
       "      <td>0.666667</td>\n",
       "      <td>12</td>\n",
       "      <td>12</td>\n",
       "      <td>12.000000</td>\n",
       "      <td>19.000000</td>\n",
       "    </tr>\n",
       "    <tr>\n",
       "      <th>...</th>\n",
       "      <td>...</td>\n",
       "      <td>...</td>\n",
       "      <td>...</td>\n",
       "      <td>...</td>\n",
       "      <td>...</td>\n",
       "      <td>...</td>\n",
       "    </tr>\n",
       "    <tr>\n",
       "      <th>181850</th>\n",
       "      <td>206204</td>\n",
       "      <td>0.294118</td>\n",
       "      <td>17</td>\n",
       "      <td>17</td>\n",
       "      <td>17.000000</td>\n",
       "      <td>25.000000</td>\n",
       "    </tr>\n",
       "    <tr>\n",
       "      <th>181851</th>\n",
       "      <td>206205</td>\n",
       "      <td>0.250000</td>\n",
       "      <td>8</td>\n",
       "      <td>8</td>\n",
       "      <td>8.000000</td>\n",
       "      <td>30.000000</td>\n",
       "    </tr>\n",
       "    <tr>\n",
       "      <th>181852</th>\n",
       "      <td>206207</td>\n",
       "      <td>0.580000</td>\n",
       "      <td>67</td>\n",
       "      <td>100</td>\n",
       "      <td>14.285714</td>\n",
       "      <td>25.285714</td>\n",
       "    </tr>\n",
       "    <tr>\n",
       "      <th>181853</th>\n",
       "      <td>206208</td>\n",
       "      <td>0.659091</td>\n",
       "      <td>37</td>\n",
       "      <td>44</td>\n",
       "      <td>14.666667</td>\n",
       "      <td>18.333333</td>\n",
       "    </tr>\n",
       "    <tr>\n",
       "      <th>181854</th>\n",
       "      <td>206209</td>\n",
       "      <td>0.530120</td>\n",
       "      <td>49</td>\n",
       "      <td>83</td>\n",
       "      <td>11.857143</td>\n",
       "      <td>25.857143</td>\n",
       "    </tr>\n",
       "  </tbody>\n",
       "</table>\n",
       "<p>181855 rows × 6 columns</p>\n",
       "</div>"
      ],
      "text/plain": [
       "        user_id  reorder_rate_l15  unique_products_l15  \\\n",
       "0             1          0.777778                   15   \n",
       "1             2          0.542373                   47   \n",
       "2             3          0.529412                   15   \n",
       "3             4          0.111111                    9   \n",
       "4             5          0.666667                   12   \n",
       "...         ...               ...                  ...   \n",
       "181850   206204          0.294118                   17   \n",
       "181851   206205          0.250000                    8   \n",
       "181852   206207          0.580000                   67   \n",
       "181853   206208          0.659091                   37   \n",
       "181854   206209          0.530120                   49   \n",
       "\n",
       "        user_total_products_l15  avg_cart_size_l15  \\\n",
       "0                            36           6.000000   \n",
       "1                            59          14.750000   \n",
       "2                            17           5.666667   \n",
       "3                             9           4.500000   \n",
       "4                            12          12.000000   \n",
       "...                         ...                ...   \n",
       "181850                       17          17.000000   \n",
       "181851                        8           8.000000   \n",
       "181852                      100          14.285714   \n",
       "181853                       44          14.666667   \n",
       "181854                       83          11.857143   \n",
       "\n",
       "        user_avg_days_between_orders_l15  \n",
       "0                              24.500000  \n",
       "1                              28.750000  \n",
       "2                              19.333333  \n",
       "3                              20.000000  \n",
       "4                              19.000000  \n",
       "...                                  ...  \n",
       "181850                         25.000000  \n",
       "181851                         30.000000  \n",
       "181852                         25.285714  \n",
       "181853                         18.333333  \n",
       "181854                         25.857143  \n",
       "\n",
       "[181855 rows x 6 columns]"
      ]
     },
     "execution_count": 133,
     "metadata": {},
     "output_type": "execute_result"
    }
   ],
   "source": [
    "user_features_l15"
   ]
  },
  {
   "cell_type": "code",
   "execution_count": 130,
   "id": "green-boulder",
   "metadata": {},
   "outputs": [
    {
     "name": "stdout",
     "output_type": "stream",
     "text": [
      "Wall time: 1.91 s\n"
     ]
    }
   ],
   "source": [
    "%%time\n",
    "# avg cart size\n",
    "temp = df_l15.groupby([\"user_id\",\"order_id\"])['add_to_cart_order'].count().reset_index(name='avg_cart_size_l15')\n",
    "temp_1 = temp.groupby('user_id')['avg_cart_size_l15'].mean().reset_index()\n",
    "user_features_l15 = user_features_l15.merge(temp_1,on=\"user_id\",how=\"left\")"
   ]
  },
  {
   "cell_type": "code",
   "execution_count": 132,
   "id": "expensive-salon",
   "metadata": {},
   "outputs": [
    {
     "name": "stdout",
     "output_type": "stream",
     "text": [
      "Wall time: 1.98 s\n"
     ]
    }
   ],
   "source": [
    "%%time\n",
    "#Get average days between 2 orders for every user\n",
    "temp = df_l15.groupby([\"user_id\",\"order_id\"])['days_since_prior_order'].max().reset_index(name='user_avg_days_between_orders_l15')\n",
    "temp_1 = temp.groupby('user_id')['user_avg_days_between_orders_l15'].mean().reset_index()\n",
    "\n",
    "\n",
    "user_features_l15 = user_features_l15.merge(temp_1,on=\"user_id\",how=\"left\")"
   ]
  },
  {
   "cell_type": "code",
   "execution_count": 134,
   "id": "ahead-interface",
   "metadata": {},
   "outputs": [
    {
     "name": "stdout",
     "output_type": "stream",
     "text": [
      "Wall time: 27.2 s\n"
     ]
    }
   ],
   "source": [
    "%%time\n",
    "#get user product reorder ratio \n",
    "    # number of unique products reordered / number of unique products ordered\n",
    "df = pd.DataFrame()\n",
    "df['user_id'] = df_l15['user_id'].sort_values().unique()\n",
    "df['user_unique_products'] = df_l15.groupby([\"user_id\"])['product_name'].nunique().reset_index(name = 'unique')['unique']\n",
    "df['user_reordered_products'] = df_l15[df_prior['reordered']==1].groupby([\"user_id\"])['product_name'].nunique().reset_index(name = 'reordered_unique')['reordered_unique']\n",
    "df.fillna(0, inplace = True)"
   ]
  },
  {
   "cell_type": "code",
   "execution_count": 135,
   "id": "concrete-weapon",
   "metadata": {},
   "outputs": [],
   "source": [
    "df[\"user_reordered_products_ratio_l15\"] = df['user_reordered_products'] / df['user_unique_products']"
   ]
  },
  {
   "cell_type": "code",
   "execution_count": 137,
   "id": "superb-webmaster",
   "metadata": {},
   "outputs": [],
   "source": [
    "df = df.drop(\"user_reordered_products\",axis=1)\n",
    "df = df.rename(columns = {\"user_reordered_products\":\"user_reordered_products_l15\"})"
   ]
  },
  {
   "cell_type": "code",
   "execution_count": 138,
   "id": "reliable-notebook",
   "metadata": {},
   "outputs": [
    {
     "name": "stdout",
     "output_type": "stream",
     "text": [
      "Wall time: 117 ms\n"
     ]
    }
   ],
   "source": [
    "%%time\n",
    "user_features_l15 = user_features_l15.merge(df,on=\"user_id\",how=\"left\")\n",
    "pickle.dump(user_features_l15,open(\"new_features/user_features_l15.pkl\",\"wb\"))"
   ]
  },
  {
   "cell_type": "markdown",
   "id": "hearing-temperature",
   "metadata": {},
   "source": [
    "<h2> user product features for first 15 days of a month </h2>"
   ]
  },
  {
   "cell_type": "code",
   "execution_count": 142,
   "id": "dental-final",
   "metadata": {},
   "outputs": [
    {
     "name": "stdout",
     "output_type": "stream",
     "text": [
      "Wall time: 0 ns\n"
     ]
    }
   ],
   "source": [
    "%%time\n",
    "user_product_features_f15 = pd.DataFrame(columns=['user_id','product_id'])"
   ]
  },
  {
   "cell_type": "code",
   "execution_count": 144,
   "id": "finnish-utilization",
   "metadata": {},
   "outputs": [
    {
     "name": "stdout",
     "output_type": "stream",
     "text": [
      "Wall time: 16.1 s\n"
     ]
    }
   ],
   "source": [
    "%%time\n",
    "temp = df_f15.groupby([\"user_id\",\"product_id\"]).size().reset_index()\n",
    "user_product_features_f15[\"user_id\"] = temp[\"user_id\"]\n",
    "user_product_features_f15[\"product_id\"] = temp[\"product_id\"]"
   ]
  },
  {
   "cell_type": "code",
   "execution_count": 145,
   "id": "blessed-blogger",
   "metadata": {},
   "outputs": [
    {
     "name": "stdout",
     "output_type": "stream",
     "text": [
      "Wall time: 16.2 s\n"
     ]
    }
   ],
   "source": [
    "%%time\n",
    "# frequently user ordered the product\n",
    "#times user ordered the product/ #times user placed an order\n",
    "temp = df_f15.groupby([\"user_id\",\"product_id\"])[\"reordered\"].size()\n",
    "temp = (temp/df_f15.groupby([\"user_id\"]).size()).reset_index(name = 'user_product_order_rate_f15')\n"
   ]
  },
  {
   "cell_type": "code",
   "execution_count": 146,
   "id": "smaller-contemporary",
   "metadata": {},
   "outputs": [
    {
     "name": "stdout",
     "output_type": "stream",
     "text": [
      "Wall time: 10.1 s\n"
     ]
    }
   ],
   "source": [
    "%%time\n",
    "user_product_features_f15 = user_product_features_f15.merge(temp,on=[\"user_id\",\"product_id\"],how=\"left\").fillna(0)"
   ]
  },
  {
   "cell_type": "code",
   "execution_count": 148,
   "id": "whole-bronze",
   "metadata": {},
   "outputs": [
    {
     "name": "stdout",
     "output_type": "stream",
     "text": [
      "Wall time: 1min 11s\n"
     ]
    }
   ],
   "source": [
    "%%time\n",
    "# How frequently user reordered the product\n",
    "#times user reordered the product/ #times user ordered the product\n",
    "temp = df_f15[df_f15[\"reordered\"]==1].groupby([\"user_id\",\"product_id\"])[\"reordered\"].size()\n",
    "temp = (temp/df_f15.groupby([\"user_id\",\"product_id\"]).size()).reset_index(name = 'user_product_reorder_rate_f15')\n",
    "user_product_features_f15 = user_product_features_f15.merge(temp,on=[\"user_id\",\"product_id\"],how=\"left\").fillna(0)"
   ]
  },
  {
   "cell_type": "code",
   "execution_count": 151,
   "id": "imperial-numbers",
   "metadata": {},
   "outputs": [],
   "source": [
    "pickle.dump(user_product_features_f15,open(\"new_features/user_product_features_f15.pkl\",\"wb\"))"
   ]
  },
  {
   "cell_type": "code",
   "execution_count": null,
   "id": "pursuant-poetry",
   "metadata": {},
   "outputs": [],
   "source": []
  },
  {
   "cell_type": "code",
   "execution_count": null,
   "id": "hispanic-miami",
   "metadata": {},
   "outputs": [],
   "source": []
  },
  {
   "cell_type": "code",
   "execution_count": 156,
   "id": "honest-vacuum",
   "metadata": {},
   "outputs": [
    {
     "name": "stdout",
     "output_type": "stream",
     "text": [
      "Wall time: 0 ns\n"
     ]
    }
   ],
   "source": [
    "%%time\n",
    "user_product_features_l15 = pd.DataFrame(columns=['user_id','product_id'])"
   ]
  },
  {
   "cell_type": "code",
   "execution_count": 157,
   "id": "vertical-building",
   "metadata": {},
   "outputs": [
    {
     "name": "stdout",
     "output_type": "stream",
     "text": [
      "Wall time: 5.92 s\n"
     ]
    }
   ],
   "source": [
    "%%time\n",
    "temp = df_l15.groupby([\"user_id\",\"product_id\"]).size().reset_index()\n",
    "user_product_features_l15[\"user_id\"] = temp[\"user_id\"]\n",
    "user_product_features_l15[\"product_id\"] = temp[\"product_id\"]"
   ]
  },
  {
   "cell_type": "code",
   "execution_count": 158,
   "id": "african-penalty",
   "metadata": {},
   "outputs": [
    {
     "name": "stdout",
     "output_type": "stream",
     "text": [
      "Wall time: 10.1 s\n"
     ]
    }
   ],
   "source": [
    "%%time\n",
    "# frequently user ordered the product\n",
    "#times user ordered the product/ #times user placed an order\n",
    "temp = df_l15.groupby([\"user_id\",\"product_id\"])[\"reordered\"].size()\n",
    "temp = (temp/df_l15.groupby([\"user_id\"]).size()).reset_index(name = 'user_product_order_rate_l15')\n",
    "user_product_features_l15 = user_product_features_l15.merge(temp,on=[\"user_id\",\"product_id\"],how=\"left\").fillna(0)"
   ]
  },
  {
   "cell_type": "code",
   "execution_count": 159,
   "id": "deadly-gates",
   "metadata": {},
   "outputs": [
    {
     "name": "stdout",
     "output_type": "stream",
     "text": [
      "Wall time: 26.6 s\n"
     ]
    }
   ],
   "source": [
    "%%time\n",
    "# How frequently user reordered the product\n",
    "#times user reordered the product/ #times user ordered the product\n",
    "temp = df_l15[df_l15[\"reordered\"]==1].groupby([\"user_id\",\"product_id\"])[\"reordered\"].size()\n",
    "temp = (temp/df_l15.groupby([\"user_id\",\"product_id\"]).size()).reset_index(name = 'user_product_reorder_rate_f15')\n",
    "user_product_features_l15 = user_product_features_l15.merge(temp,on=[\"user_id\",\"product_id\"],how=\"left\").fillna(0)"
   ]
  },
  {
   "cell_type": "code",
   "execution_count": 161,
   "id": "underlying-heater",
   "metadata": {},
   "outputs": [],
   "source": [
    "user_product_features_l15 = user_product_features_l15.rename(columns={\"user_product_reorder_rate_f15\":\"user_product_reorder_rate_l15\"})"
   ]
  },
  {
   "cell_type": "code",
   "execution_count": 162,
   "id": "quantitative-opening",
   "metadata": {},
   "outputs": [],
   "source": [
    "pickle.dump(user_product_features_l15,open(\"new_features/user_product_features_l15.pkl\",\"wb\"))"
   ]
  },
  {
   "cell_type": "markdown",
   "id": "comparative-spell",
   "metadata": {},
   "source": [
    "<h2> implementing word2vec </h2>"
   ]
  },
  {
   "cell_type": "code",
   "execution_count": 163,
   "id": "molecular-plant",
   "metadata": {},
   "outputs": [],
   "source": [
    "# https://www.kaggle.com/omarito/word2vec-for-products-analysis-0-01-lb\n",
    "# https://github.com/jacquespeeters/instacart-market-basket-analysis/blob/master/word2vector.py\n",
    "aisles = pd.read_csv(\"data\\\\aisles.csv\")\n",
    "departments = pd.read_csv(\"data\\\\departments.csv\")\n",
    "product     = pd.read_csv(\"data\\\\products.csv\")"
   ]
  },
  {
   "cell_type": "code",
   "execution_count": 164,
   "id": "direct-sherman",
   "metadata": {},
   "outputs": [],
   "source": [
    "t = product.merge(departments,on='department_id').merge(aisles,on='aisle_id')\n",
    "# t = product.merge(departments,on='department_id').merge(aisles,on='aisle_id')\n",
    "t['concat'] = t.product_name+' '+t.aisle+' '+t.department"
   ]
  },
  {
   "cell_type": "code",
   "execution_count": 165,
   "id": "rotary-venice",
   "metadata": {},
   "outputs": [],
   "source": [
    "import spacy\n",
    "from tqdm import tqdm\n",
    "nlp = spacy.load(\"en_core_web_sm\")"
   ]
  },
  {
   "cell_type": "code",
   "execution_count": 166,
   "id": "august-battlefield",
   "metadata": {},
   "outputs": [
    {
     "name": "stderr",
     "output_type": "stream",
     "text": [
      "100%|████████████████████████████████████████████████████████████████████████████| 49688/49688 [12:28<00:00, 66.39it/s]\n"
     ]
    }
   ],
   "source": [
    "embedings = []\n",
    "for i in tqdm(t.concat):\n",
    "    embedings.append(nlp(i).vector.tolist())"
   ]
  },
  {
   "cell_type": "code",
   "execution_count": 167,
   "id": "relevant-equality",
   "metadata": {},
   "outputs": [],
   "source": [
    "embedings = np.array(embedings)"
   ]
  },
  {
   "cell_type": "code",
   "execution_count": 168,
   "id": "buried-effectiveness",
   "metadata": {},
   "outputs": [
    {
     "data": {
      "text/plain": [
       "array([[ 1.59712982,  3.68936539,  0.42697558, ..., -0.27670634,\n",
       "         0.43996802, -0.19875298],\n",
       "       [ 2.14573312,  2.89356637,  0.88513601, ..., -0.25646234,\n",
       "        -0.01654181, -0.05958762],\n",
       "       [ 1.63370895,  3.77954602,  0.94395179, ..., -0.48379385,\n",
       "        -0.37982002,  0.68874878],\n",
       "       ...,\n",
       "       [ 2.11418772,  1.16476929,  0.81052685, ...,  0.15621345,\n",
       "         0.11892312,  0.84416145],\n",
       "       [ 2.17515397,  1.54050148,  0.93751061, ..., -0.42087144,\n",
       "        -0.2340377 ,  0.20871983],\n",
       "       [ 2.08332491,  1.74270678,  0.09583858, ...,  0.97301716,\n",
       "         0.29398429, -0.25241169]])"
      ]
     },
     "execution_count": 168,
     "metadata": {},
     "output_type": "execute_result"
    }
   ],
   "source": [
    "embedings"
   ]
  },
  {
   "cell_type": "code",
   "execution_count": 171,
   "id": "unlimited-appliance",
   "metadata": {},
   "outputs": [
    {
     "data": {
      "text/plain": [
       "(49688, 30)"
      ]
     },
     "execution_count": 171,
     "metadata": {},
     "output_type": "execute_result"
    }
   ],
   "source": [
    "pca = PCA(random_state=42)\n",
    "pca.n_components = 30\n",
    "pca_data = pca.fit_transform(pd.DataFrame(embedings))\n",
    "pca_data.shape"
   ]
  },
  {
   "cell_type": "code",
   "execution_count": 172,
   "id": "injured-indonesia",
   "metadata": {},
   "outputs": [
    {
     "data": {
      "text/html": [
       "<div>\n",
       "<style scoped>\n",
       "    .dataframe tbody tr th:only-of-type {\n",
       "        vertical-align: middle;\n",
       "    }\n",
       "\n",
       "    .dataframe tbody tr th {\n",
       "        vertical-align: top;\n",
       "    }\n",
       "\n",
       "    .dataframe thead th {\n",
       "        text-align: right;\n",
       "    }\n",
       "</style>\n",
       "<table border=\"1\" class=\"dataframe\">\n",
       "  <thead>\n",
       "    <tr style=\"text-align: right;\">\n",
       "      <th></th>\n",
       "      <th>pca0</th>\n",
       "      <th>pca1</th>\n",
       "      <th>pca2</th>\n",
       "      <th>pca3</th>\n",
       "      <th>pca4</th>\n",
       "      <th>pca5</th>\n",
       "      <th>pca6</th>\n",
       "      <th>pca7</th>\n",
       "      <th>pca8</th>\n",
       "      <th>pca9</th>\n",
       "      <th>...</th>\n",
       "      <th>pca21</th>\n",
       "      <th>pca22</th>\n",
       "      <th>pca23</th>\n",
       "      <th>pca24</th>\n",
       "      <th>pca25</th>\n",
       "      <th>pca26</th>\n",
       "      <th>pca27</th>\n",
       "      <th>pca28</th>\n",
       "      <th>pca29</th>\n",
       "      <th>product_id</th>\n",
       "    </tr>\n",
       "  </thead>\n",
       "  <tbody>\n",
       "    <tr>\n",
       "      <th>0</th>\n",
       "      <td>5.685825</td>\n",
       "      <td>-3.038605</td>\n",
       "      <td>-2.744053</td>\n",
       "      <td>1.108631</td>\n",
       "      <td>-0.089354</td>\n",
       "      <td>-1.691685</td>\n",
       "      <td>-0.707914</td>\n",
       "      <td>-1.055036</td>\n",
       "      <td>-0.589785</td>\n",
       "      <td>0.678092</td>\n",
       "      <td>...</td>\n",
       "      <td>-0.721664</td>\n",
       "      <td>0.342295</td>\n",
       "      <td>-0.537946</td>\n",
       "      <td>-0.004651</td>\n",
       "      <td>-0.516881</td>\n",
       "      <td>-1.288119</td>\n",
       "      <td>0.045901</td>\n",
       "      <td>0.725184</td>\n",
       "      <td>-1.239470</td>\n",
       "      <td>1</td>\n",
       "    </tr>\n",
       "    <tr>\n",
       "      <th>1</th>\n",
       "      <td>1.764361</td>\n",
       "      <td>-1.805150</td>\n",
       "      <td>-1.872392</td>\n",
       "      <td>0.879020</td>\n",
       "      <td>0.346604</td>\n",
       "      <td>-1.049471</td>\n",
       "      <td>-1.054171</td>\n",
       "      <td>0.272769</td>\n",
       "      <td>-0.375640</td>\n",
       "      <td>-0.753306</td>\n",
       "      <td>...</td>\n",
       "      <td>-0.034965</td>\n",
       "      <td>-0.739605</td>\n",
       "      <td>-0.457462</td>\n",
       "      <td>-0.490952</td>\n",
       "      <td>-0.241052</td>\n",
       "      <td>-1.005393</td>\n",
       "      <td>0.264379</td>\n",
       "      <td>1.137681</td>\n",
       "      <td>-0.230692</td>\n",
       "      <td>78</td>\n",
       "    </tr>\n",
       "    <tr>\n",
       "      <th>2</th>\n",
       "      <td>5.245373</td>\n",
       "      <td>-3.529498</td>\n",
       "      <td>-1.309787</td>\n",
       "      <td>-0.370892</td>\n",
       "      <td>0.542056</td>\n",
       "      <td>-1.227300</td>\n",
       "      <td>-0.511927</td>\n",
       "      <td>-1.581759</td>\n",
       "      <td>-0.059841</td>\n",
       "      <td>0.076461</td>\n",
       "      <td>...</td>\n",
       "      <td>-0.724696</td>\n",
       "      <td>-0.387842</td>\n",
       "      <td>-0.707410</td>\n",
       "      <td>0.064645</td>\n",
       "      <td>-0.189325</td>\n",
       "      <td>-1.461408</td>\n",
       "      <td>-0.198345</td>\n",
       "      <td>-0.509135</td>\n",
       "      <td>-0.511021</td>\n",
       "      <td>102</td>\n",
       "    </tr>\n",
       "  </tbody>\n",
       "</table>\n",
       "<p>3 rows × 31 columns</p>\n",
       "</div>"
      ],
      "text/plain": [
       "       pca0      pca1      pca2      pca3      pca4      pca5      pca6  \\\n",
       "0  5.685825 -3.038605 -2.744053  1.108631 -0.089354 -1.691685 -0.707914   \n",
       "1  1.764361 -1.805150 -1.872392  0.879020  0.346604 -1.049471 -1.054171   \n",
       "2  5.245373 -3.529498 -1.309787 -0.370892  0.542056 -1.227300 -0.511927   \n",
       "\n",
       "       pca7      pca8      pca9  ...     pca21     pca22     pca23     pca24  \\\n",
       "0 -1.055036 -0.589785  0.678092  ... -0.721664  0.342295 -0.537946 -0.004651   \n",
       "1  0.272769 -0.375640 -0.753306  ... -0.034965 -0.739605 -0.457462 -0.490952   \n",
       "2 -1.581759 -0.059841  0.076461  ... -0.724696 -0.387842 -0.707410  0.064645   \n",
       "\n",
       "      pca25     pca26     pca27     pca28     pca29  product_id  \n",
       "0 -0.516881 -1.288119  0.045901  0.725184 -1.239470           1  \n",
       "1 -0.241052 -1.005393  0.264379  1.137681 -0.230692          78  \n",
       "2 -0.189325 -1.461408 -0.198345 -0.509135 -0.511021         102  \n",
       "\n",
       "[3 rows x 31 columns]"
      ]
     },
     "execution_count": 172,
     "metadata": {},
     "output_type": "execute_result"
    }
   ],
   "source": [
    "embedd = pd.DataFrame(pca_data)\n",
    "embedd.columns = [\"pca\"+str(i) for i in embedd.columns]\n",
    "embedd['product_id'] = t.product_id\n",
    "embedd.head(3)"
   ]
  },
  {
   "cell_type": "code",
   "execution_count": 173,
   "id": "becoming-bullet",
   "metadata": {},
   "outputs": [],
   "source": [
    "pickle.dump(embedd,open('new_features/products_pca.pkl','wb'))"
   ]
  }
 ],
 "metadata": {
  "kernelspec": {
   "display_name": "Python 3",
   "language": "python",
   "name": "python3"
  },
  "language_info": {
   "codemirror_mode": {
    "name": "ipython",
    "version": 3
   },
   "file_extension": ".py",
   "mimetype": "text/x-python",
   "name": "python",
   "nbconvert_exporter": "python",
   "pygments_lexer": "ipython3",
   "version": "3.8.3"
  }
 },
 "nbformat": 4,
 "nbformat_minor": 5
}
