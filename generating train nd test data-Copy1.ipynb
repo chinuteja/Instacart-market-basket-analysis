{
 "cells": [
  {
   "cell_type": "code",
   "execution_count": 1,
   "id": "consecutive-webcam",
   "metadata": {},
   "outputs": [],
   "source": [
    "import pandas as pd\n",
    "import numpy as np\n",
    "import seaborn as sns\n",
    "import matplotlib.pyplot as plt\n",
    "import pickle\n",
    "import warnings\n",
    "warnings.filterwarnings(\"ignore\")"
   ]
  },
  {
   "cell_type": "code",
   "execution_count": 2,
   "id": "positive-inspiration",
   "metadata": {},
   "outputs": [],
   "source": [
    "df_train = pickle.load(open(\"data_pickle/train_data.pkl\",'rb'))"
   ]
  },
  {
   "cell_type": "code",
   "execution_count": 3,
   "id": "enhanced-powder",
   "metadata": {},
   "outputs": [
    {
     "data": {
      "text/html": [
       "<div>\n",
       "<style scoped>\n",
       "    .dataframe tbody tr th:only-of-type {\n",
       "        vertical-align: middle;\n",
       "    }\n",
       "\n",
       "    .dataframe tbody tr th {\n",
       "        vertical-align: top;\n",
       "    }\n",
       "\n",
       "    .dataframe thead th {\n",
       "        text-align: right;\n",
       "    }\n",
       "</style>\n",
       "<table border=\"1\" class=\"dataframe\">\n",
       "  <thead>\n",
       "    <tr style=\"text-align: right;\">\n",
       "      <th></th>\n",
       "      <th>order_id</th>\n",
       "      <th>product_id</th>\n",
       "      <th>add_to_cart_order</th>\n",
       "      <th>reordered</th>\n",
       "      <th>product_name</th>\n",
       "      <th>aisle_id</th>\n",
       "      <th>department_id</th>\n",
       "      <th>aisle</th>\n",
       "      <th>department</th>\n",
       "      <th>user_id</th>\n",
       "      <th>eval_set</th>\n",
       "      <th>order_number</th>\n",
       "      <th>order_dow</th>\n",
       "      <th>order_hour_of_day</th>\n",
       "      <th>days_since_prior_order</th>\n",
       "    </tr>\n",
       "  </thead>\n",
       "  <tbody>\n",
       "    <tr>\n",
       "      <th>0</th>\n",
       "      <td>1</td>\n",
       "      <td>49302</td>\n",
       "      <td>1</td>\n",
       "      <td>1</td>\n",
       "      <td>Bulgarian Yogurt</td>\n",
       "      <td>120</td>\n",
       "      <td>16</td>\n",
       "      <td>yogurt</td>\n",
       "      <td>dairy eggs</td>\n",
       "      <td>112108</td>\n",
       "      <td>train</td>\n",
       "      <td>4</td>\n",
       "      <td>4</td>\n",
       "      <td>10</td>\n",
       "      <td>9.0</td>\n",
       "    </tr>\n",
       "    <tr>\n",
       "      <th>1</th>\n",
       "      <td>1</td>\n",
       "      <td>49683</td>\n",
       "      <td>4</td>\n",
       "      <td>0</td>\n",
       "      <td>Cucumber Kirby</td>\n",
       "      <td>83</td>\n",
       "      <td>4</td>\n",
       "      <td>fresh vegetables</td>\n",
       "      <td>produce</td>\n",
       "      <td>112108</td>\n",
       "      <td>train</td>\n",
       "      <td>4</td>\n",
       "      <td>4</td>\n",
       "      <td>10</td>\n",
       "      <td>9.0</td>\n",
       "    </tr>\n",
       "    <tr>\n",
       "      <th>2</th>\n",
       "      <td>1</td>\n",
       "      <td>13176</td>\n",
       "      <td>6</td>\n",
       "      <td>0</td>\n",
       "      <td>Bag of Organic Bananas</td>\n",
       "      <td>24</td>\n",
       "      <td>4</td>\n",
       "      <td>fresh fruits</td>\n",
       "      <td>produce</td>\n",
       "      <td>112108</td>\n",
       "      <td>train</td>\n",
       "      <td>4</td>\n",
       "      <td>4</td>\n",
       "      <td>10</td>\n",
       "      <td>9.0</td>\n",
       "    </tr>\n",
       "    <tr>\n",
       "      <th>3</th>\n",
       "      <td>1</td>\n",
       "      <td>43633</td>\n",
       "      <td>5</td>\n",
       "      <td>1</td>\n",
       "      <td>Lightly Smoked Sardines in Olive Oil</td>\n",
       "      <td>95</td>\n",
       "      <td>15</td>\n",
       "      <td>canned meat seafood</td>\n",
       "      <td>canned goods</td>\n",
       "      <td>112108</td>\n",
       "      <td>train</td>\n",
       "      <td>4</td>\n",
       "      <td>4</td>\n",
       "      <td>10</td>\n",
       "      <td>9.0</td>\n",
       "    </tr>\n",
       "    <tr>\n",
       "      <th>4</th>\n",
       "      <td>1</td>\n",
       "      <td>10246</td>\n",
       "      <td>3</td>\n",
       "      <td>0</td>\n",
       "      <td>Organic Celery Hearts</td>\n",
       "      <td>83</td>\n",
       "      <td>4</td>\n",
       "      <td>fresh vegetables</td>\n",
       "      <td>produce</td>\n",
       "      <td>112108</td>\n",
       "      <td>train</td>\n",
       "      <td>4</td>\n",
       "      <td>4</td>\n",
       "      <td>10</td>\n",
       "      <td>9.0</td>\n",
       "    </tr>\n",
       "    <tr>\n",
       "      <th>...</th>\n",
       "      <td>...</td>\n",
       "      <td>...</td>\n",
       "      <td>...</td>\n",
       "      <td>...</td>\n",
       "      <td>...</td>\n",
       "      <td>...</td>\n",
       "      <td>...</td>\n",
       "      <td>...</td>\n",
       "      <td>...</td>\n",
       "      <td>...</td>\n",
       "      <td>...</td>\n",
       "      <td>...</td>\n",
       "      <td>...</td>\n",
       "      <td>...</td>\n",
       "      <td>...</td>\n",
       "    </tr>\n",
       "    <tr>\n",
       "      <th>33818974</th>\n",
       "      <td>3421063</td>\n",
       "      <td>49235</td>\n",
       "      <td>1</td>\n",
       "      <td>1</td>\n",
       "      <td>Organic Half &amp; Half</td>\n",
       "      <td>53</td>\n",
       "      <td>16</td>\n",
       "      <td>cream</td>\n",
       "      <td>dairy eggs</td>\n",
       "      <td>169679</td>\n",
       "      <td>train</td>\n",
       "      <td>30</td>\n",
       "      <td>0</td>\n",
       "      <td>10</td>\n",
       "      <td>4.0</td>\n",
       "    </tr>\n",
       "    <tr>\n",
       "      <th>33818975</th>\n",
       "      <td>3421063</td>\n",
       "      <td>14233</td>\n",
       "      <td>3</td>\n",
       "      <td>1</td>\n",
       "      <td>Natural Artesian Water</td>\n",
       "      <td>115</td>\n",
       "      <td>7</td>\n",
       "      <td>water seltzer sparkling water</td>\n",
       "      <td>beverages</td>\n",
       "      <td>169679</td>\n",
       "      <td>train</td>\n",
       "      <td>30</td>\n",
       "      <td>0</td>\n",
       "      <td>10</td>\n",
       "      <td>4.0</td>\n",
       "    </tr>\n",
       "    <tr>\n",
       "      <th>33819017</th>\n",
       "      <td>3421070</td>\n",
       "      <td>16953</td>\n",
       "      <td>2</td>\n",
       "      <td>1</td>\n",
       "      <td>Creamy Peanut Butter</td>\n",
       "      <td>88</td>\n",
       "      <td>13</td>\n",
       "      <td>spreads</td>\n",
       "      <td>pantry</td>\n",
       "      <td>139822</td>\n",
       "      <td>train</td>\n",
       "      <td>15</td>\n",
       "      <td>6</td>\n",
       "      <td>10</td>\n",
       "      <td>8.0</td>\n",
       "    </tr>\n",
       "    <tr>\n",
       "      <th>33819018</th>\n",
       "      <td>3421070</td>\n",
       "      <td>35951</td>\n",
       "      <td>1</td>\n",
       "      <td>1</td>\n",
       "      <td>Organic Unsweetened Almond Milk</td>\n",
       "      <td>91</td>\n",
       "      <td>16</td>\n",
       "      <td>soy lactosefree</td>\n",
       "      <td>dairy eggs</td>\n",
       "      <td>139822</td>\n",
       "      <td>train</td>\n",
       "      <td>15</td>\n",
       "      <td>6</td>\n",
       "      <td>10</td>\n",
       "      <td>8.0</td>\n",
       "    </tr>\n",
       "    <tr>\n",
       "      <th>33819019</th>\n",
       "      <td>3421070</td>\n",
       "      <td>4724</td>\n",
       "      <td>3</td>\n",
       "      <td>1</td>\n",
       "      <td>Broccoli Florettes</td>\n",
       "      <td>32</td>\n",
       "      <td>4</td>\n",
       "      <td>packaged produce</td>\n",
       "      <td>produce</td>\n",
       "      <td>139822</td>\n",
       "      <td>train</td>\n",
       "      <td>15</td>\n",
       "      <td>6</td>\n",
       "      <td>10</td>\n",
       "      <td>8.0</td>\n",
       "    </tr>\n",
       "  </tbody>\n",
       "</table>\n",
       "<p>1384617 rows × 15 columns</p>\n",
       "</div>"
      ],
      "text/plain": [
       "          order_id  product_id  add_to_cart_order  reordered  \\\n",
       "0                1       49302                  1          1   \n",
       "1                1       49683                  4          0   \n",
       "2                1       13176                  6          0   \n",
       "3                1       43633                  5          1   \n",
       "4                1       10246                  3          0   \n",
       "...            ...         ...                ...        ...   \n",
       "33818974   3421063       49235                  1          1   \n",
       "33818975   3421063       14233                  3          1   \n",
       "33819017   3421070       16953                  2          1   \n",
       "33819018   3421070       35951                  1          1   \n",
       "33819019   3421070        4724                  3          1   \n",
       "\n",
       "                                  product_name  aisle_id  department_id  \\\n",
       "0                             Bulgarian Yogurt       120             16   \n",
       "1                               Cucumber Kirby        83              4   \n",
       "2                       Bag of Organic Bananas        24              4   \n",
       "3         Lightly Smoked Sardines in Olive Oil        95             15   \n",
       "4                        Organic Celery Hearts        83              4   \n",
       "...                                        ...       ...            ...   \n",
       "33818974                   Organic Half & Half        53             16   \n",
       "33818975                Natural Artesian Water       115              7   \n",
       "33819017                  Creamy Peanut Butter        88             13   \n",
       "33819018       Organic Unsweetened Almond Milk        91             16   \n",
       "33819019                    Broccoli Florettes        32              4   \n",
       "\n",
       "                                  aisle    department  user_id eval_set  \\\n",
       "0                                yogurt    dairy eggs   112108    train   \n",
       "1                      fresh vegetables       produce   112108    train   \n",
       "2                          fresh fruits       produce   112108    train   \n",
       "3                   canned meat seafood  canned goods   112108    train   \n",
       "4                      fresh vegetables       produce   112108    train   \n",
       "...                                 ...           ...      ...      ...   \n",
       "33818974                          cream    dairy eggs   169679    train   \n",
       "33818975  water seltzer sparkling water     beverages   169679    train   \n",
       "33819017                        spreads        pantry   139822    train   \n",
       "33819018                soy lactosefree    dairy eggs   139822    train   \n",
       "33819019               packaged produce       produce   139822    train   \n",
       "\n",
       "          order_number  order_dow  order_hour_of_day  days_since_prior_order  \n",
       "0                    4          4                 10                     9.0  \n",
       "1                    4          4                 10                     9.0  \n",
       "2                    4          4                 10                     9.0  \n",
       "3                    4          4                 10                     9.0  \n",
       "4                    4          4                 10                     9.0  \n",
       "...                ...        ...                ...                     ...  \n",
       "33818974            30          0                 10                     4.0  \n",
       "33818975            30          0                 10                     4.0  \n",
       "33819017            15          6                 10                     8.0  \n",
       "33819018            15          6                 10                     8.0  \n",
       "33819019            15          6                 10                     8.0  \n",
       "\n",
       "[1384617 rows x 15 columns]"
      ]
     },
     "execution_count": 3,
     "metadata": {},
     "output_type": "execute_result"
    }
   ],
   "source": [
    "df_train"
   ]
  },
  {
   "cell_type": "code",
   "execution_count": 19,
   "id": "satellite-behalf",
   "metadata": {},
   "outputs": [
    {
     "name": "stdout",
     "output_type": "stream",
     "text": [
      "Wall time: 917 ms\n"
     ]
    }
   ],
   "source": [
    "%%time\n",
    "product_features = pickle.load(open(\"new_features/product_features.pkl\",\"rb\"))\n",
    "user_features = pickle.load(open(\"new_features/user_features.pkl\",\"rb\"))\n",
    "user_features = user_features.drop([\"reordered\"],axis=1)\n",
    "user_product_features = pickle.load(open(\"new_features/user_product_features.pkl\",\"rb\"))\n",
    "# user_features = pd.read_csv(\"user_features_v6.csv\")\n",
    "# user_product_features = pd.read_csv(\"user_product_features_prior_data_v6.csv\")"
   ]
  },
  {
   "cell_type": "code",
   "execution_count": 20,
   "id": "connected-dubai",
   "metadata": {},
   "outputs": [
    {
     "name": "stdout",
     "output_type": "stream",
     "text": [
      "Wall time: 10.7 s\n"
     ]
    }
   ],
   "source": [
    "%%time\n",
    "#merge all product ,user, user_product features with prior_last_orders\n",
    "\n",
    "merged_df = pd.merge(user_product_features, user_features,  how='outer', left_on=['user_id'], right_on = ['user_id'])\n",
    "merged_df = pd.merge(merged_df, product_features,  how='outer', left_on=['product_id'], right_on = ['product_id'])"
   ]
  },
  {
   "cell_type": "code",
   "execution_count": 21,
   "id": "numerical-craps",
   "metadata": {},
   "outputs": [
    {
     "data": {
      "text/html": [
       "<div>\n",
       "<style scoped>\n",
       "    .dataframe tbody tr th:only-of-type {\n",
       "        vertical-align: middle;\n",
       "    }\n",
       "\n",
       "    .dataframe tbody tr th {\n",
       "        vertical-align: top;\n",
       "    }\n",
       "\n",
       "    .dataframe thead th {\n",
       "        text-align: right;\n",
       "    }\n",
       "</style>\n",
       "<table border=\"1\" class=\"dataframe\">\n",
       "  <thead>\n",
       "    <tr style=\"text-align: right;\">\n",
       "      <th></th>\n",
       "      <th>user_id</th>\n",
       "      <th>product_id</th>\n",
       "      <th>user_product_order_rate</th>\n",
       "      <th>user_product_reorder_rate</th>\n",
       "      <th>user_product_avg_position</th>\n",
       "      <th>user_product_orders_since_last</th>\n",
       "      <th>reorder_rate</th>\n",
       "      <th>unique_products</th>\n",
       "      <th>user_total_products</th>\n",
       "      <th>avg_cart_size</th>\n",
       "      <th>user_avg_days_between_orders</th>\n",
       "      <th>user_unique_products</th>\n",
       "      <th>user_reordered_products</th>\n",
       "      <th>user_reordered_products_ratio</th>\n",
       "      <th>product_reorder_rate</th>\n",
       "      <th>avg_pos_incart</th>\n",
       "      <th>aisle_id</th>\n",
       "      <th>department_id</th>\n",
       "      <th>aisle_reorder_rate</th>\n",
       "      <th>dept_reorder_rate</th>\n",
       "    </tr>\n",
       "  </thead>\n",
       "  <tbody>\n",
       "    <tr>\n",
       "      <th>13307948</th>\n",
       "      <td>200463</td>\n",
       "      <td>8682</td>\n",
       "      <td>0.026316</td>\n",
       "      <td>0.000000</td>\n",
       "      <td>11.000000</td>\n",
       "      <td>2</td>\n",
       "      <td>0.184211</td>\n",
       "      <td>31</td>\n",
       "      <td>38</td>\n",
       "      <td>9.500000</td>\n",
       "      <td>22.500000</td>\n",
       "      <td>31</td>\n",
       "      <td>4.0</td>\n",
       "      <td>0.129032</td>\n",
       "      <td>0.000000</td>\n",
       "      <td>9.000000</td>\n",
       "      <td>114</td>\n",
       "      <td>17</td>\n",
       "      <td>0.288537</td>\n",
       "      <td>0.402178</td>\n",
       "    </tr>\n",
       "    <tr>\n",
       "      <th>13307949</th>\n",
       "      <td>203389</td>\n",
       "      <td>8682</td>\n",
       "      <td>0.005025</td>\n",
       "      <td>0.000000</td>\n",
       "      <td>7.000000</td>\n",
       "      <td>1</td>\n",
       "      <td>0.427136</td>\n",
       "      <td>114</td>\n",
       "      <td>199</td>\n",
       "      <td>11.705882</td>\n",
       "      <td>4.705882</td>\n",
       "      <td>114</td>\n",
       "      <td>0.0</td>\n",
       "      <td>0.000000</td>\n",
       "      <td>0.000000</td>\n",
       "      <td>9.000000</td>\n",
       "      <td>114</td>\n",
       "      <td>17</td>\n",
       "      <td>0.288537</td>\n",
       "      <td>0.402178</td>\n",
       "    </tr>\n",
       "    <tr>\n",
       "      <th>13307950</th>\n",
       "      <td>202557</td>\n",
       "      <td>43553</td>\n",
       "      <td>0.038690</td>\n",
       "      <td>0.923077</td>\n",
       "      <td>3.538462</td>\n",
       "      <td>13</td>\n",
       "      <td>0.607143</td>\n",
       "      <td>132</td>\n",
       "      <td>336</td>\n",
       "      <td>10.838710</td>\n",
       "      <td>8.741935</td>\n",
       "      <td>132</td>\n",
       "      <td>14.0</td>\n",
       "      <td>0.106061</td>\n",
       "      <td>0.923077</td>\n",
       "      <td>3.538462</td>\n",
       "      <td>64</td>\n",
       "      <td>7</td>\n",
       "      <td>0.649607</td>\n",
       "      <td>0.653460</td>\n",
       "    </tr>\n",
       "    <tr>\n",
       "      <th>13307951</th>\n",
       "      <td>203436</td>\n",
       "      <td>42338</td>\n",
       "      <td>0.052632</td>\n",
       "      <td>0.500000</td>\n",
       "      <td>10.000000</td>\n",
       "      <td>1</td>\n",
       "      <td>0.236842</td>\n",
       "      <td>29</td>\n",
       "      <td>38</td>\n",
       "      <td>12.666667</td>\n",
       "      <td>15.000000</td>\n",
       "      <td>29</td>\n",
       "      <td>0.0</td>\n",
       "      <td>0.000000</td>\n",
       "      <td>0.500000</td>\n",
       "      <td>10.000000</td>\n",
       "      <td>50</td>\n",
       "      <td>19</td>\n",
       "      <td>0.592415</td>\n",
       "      <td>0.574180</td>\n",
       "    </tr>\n",
       "    <tr>\n",
       "      <th>13307952</th>\n",
       "      <td>205420</td>\n",
       "      <td>28818</td>\n",
       "      <td>0.008475</td>\n",
       "      <td>0.000000</td>\n",
       "      <td>8.000000</td>\n",
       "      <td>15</td>\n",
       "      <td>0.228814</td>\n",
       "      <td>91</td>\n",
       "      <td>118</td>\n",
       "      <td>7.375000</td>\n",
       "      <td>14.812500</td>\n",
       "      <td>91</td>\n",
       "      <td>0.0</td>\n",
       "      <td>0.000000</td>\n",
       "      <td>0.000000</td>\n",
       "      <td>8.000000</td>\n",
       "      <td>130</td>\n",
       "      <td>14</td>\n",
       "      <td>0.499501</td>\n",
       "      <td>0.560922</td>\n",
       "    </tr>\n",
       "  </tbody>\n",
       "</table>\n",
       "</div>"
      ],
      "text/plain": [
       "          user_id  product_id  user_product_order_rate  \\\n",
       "13307948   200463        8682                 0.026316   \n",
       "13307949   203389        8682                 0.005025   \n",
       "13307950   202557       43553                 0.038690   \n",
       "13307951   203436       42338                 0.052632   \n",
       "13307952   205420       28818                 0.008475   \n",
       "\n",
       "          user_product_reorder_rate  user_product_avg_position  \\\n",
       "13307948                   0.000000                  11.000000   \n",
       "13307949                   0.000000                   7.000000   \n",
       "13307950                   0.923077                   3.538462   \n",
       "13307951                   0.500000                  10.000000   \n",
       "13307952                   0.000000                   8.000000   \n",
       "\n",
       "          user_product_orders_since_last  reorder_rate  unique_products  \\\n",
       "13307948                               2      0.184211               31   \n",
       "13307949                               1      0.427136              114   \n",
       "13307950                              13      0.607143              132   \n",
       "13307951                               1      0.236842               29   \n",
       "13307952                              15      0.228814               91   \n",
       "\n",
       "          user_total_products  avg_cart_size  user_avg_days_between_orders  \\\n",
       "13307948                   38       9.500000                     22.500000   \n",
       "13307949                  199      11.705882                      4.705882   \n",
       "13307950                  336      10.838710                      8.741935   \n",
       "13307951                   38      12.666667                     15.000000   \n",
       "13307952                  118       7.375000                     14.812500   \n",
       "\n",
       "          user_unique_products  user_reordered_products  \\\n",
       "13307948                    31                      4.0   \n",
       "13307949                   114                      0.0   \n",
       "13307950                   132                     14.0   \n",
       "13307951                    29                      0.0   \n",
       "13307952                    91                      0.0   \n",
       "\n",
       "          user_reordered_products_ratio  product_reorder_rate  avg_pos_incart  \\\n",
       "13307948                       0.129032              0.000000        9.000000   \n",
       "13307949                       0.000000              0.000000        9.000000   \n",
       "13307950                       0.106061              0.923077        3.538462   \n",
       "13307951                       0.000000              0.500000       10.000000   \n",
       "13307952                       0.000000              0.000000        8.000000   \n",
       "\n",
       "          aisle_id  department_id  aisle_reorder_rate  dept_reorder_rate  \n",
       "13307948       114             17            0.288537           0.402178  \n",
       "13307949       114             17            0.288537           0.402178  \n",
       "13307950        64              7            0.649607           0.653460  \n",
       "13307951        50             19            0.592415           0.574180  \n",
       "13307952       130             14            0.499501           0.560922  "
      ]
     },
     "execution_count": 21,
     "metadata": {},
     "output_type": "execute_result"
    }
   ],
   "source": [
    "merged_df.tail(5)"
   ]
  },
  {
   "cell_type": "code",
   "execution_count": 22,
   "id": "stopped-daisy",
   "metadata": {},
   "outputs": [
    {
     "name": "stdout",
     "output_type": "stream",
     "text": [
      "Wall time: 432 ms\n"
     ]
    }
   ],
   "source": [
    "%%time\n",
    "upd_train_orders = df_train[['user_id','order_id','product_id','reordered']]\n",
    "last_orders = upd_train_orders.groupby(['user_id'])['order_id'].max().reset_index(name = 'new_order_id')\n",
    "order_details = df_train[['order_id','order_dow','order_hour_of_day','days_since_prior_order']]\n",
    "order_details = order_details.drop_duplicates()"
   ]
  },
  {
   "cell_type": "code",
   "execution_count": 23,
   "id": "golden-payroll",
   "metadata": {},
   "outputs": [
    {
     "data": {
      "text/html": [
       "<div>\n",
       "<style scoped>\n",
       "    .dataframe tbody tr th:only-of-type {\n",
       "        vertical-align: middle;\n",
       "    }\n",
       "\n",
       "    .dataframe tbody tr th {\n",
       "        vertical-align: top;\n",
       "    }\n",
       "\n",
       "    .dataframe thead th {\n",
       "        text-align: right;\n",
       "    }\n",
       "</style>\n",
       "<table border=\"1\" class=\"dataframe\">\n",
       "  <thead>\n",
       "    <tr style=\"text-align: right;\">\n",
       "      <th></th>\n",
       "      <th>order_id</th>\n",
       "      <th>order_dow</th>\n",
       "      <th>order_hour_of_day</th>\n",
       "      <th>days_since_prior_order</th>\n",
       "    </tr>\n",
       "  </thead>\n",
       "  <tbody>\n",
       "    <tr>\n",
       "      <th>0</th>\n",
       "      <td>1</td>\n",
       "      <td>4</td>\n",
       "      <td>10</td>\n",
       "      <td>9.0</td>\n",
       "    </tr>\n",
       "    <tr>\n",
       "      <th>333</th>\n",
       "      <td>36</td>\n",
       "      <td>6</td>\n",
       "      <td>18</td>\n",
       "      <td>30.0</td>\n",
       "    </tr>\n",
       "    <tr>\n",
       "      <th>344</th>\n",
       "      <td>38</td>\n",
       "      <td>6</td>\n",
       "      <td>16</td>\n",
       "      <td>24.0</td>\n",
       "    </tr>\n",
       "  </tbody>\n",
       "</table>\n",
       "</div>"
      ],
      "text/plain": [
       "     order_id  order_dow  order_hour_of_day  days_since_prior_order\n",
       "0           1          4                 10                     9.0\n",
       "333        36          6                 18                    30.0\n",
       "344        38          6                 16                    24.0"
      ]
     },
     "execution_count": 23,
     "metadata": {},
     "output_type": "execute_result"
    }
   ],
   "source": [
    "order_details.head(3)"
   ]
  },
  {
   "cell_type": "code",
   "execution_count": 24,
   "id": "accredited-estate",
   "metadata": {},
   "outputs": [
    {
     "name": "stdout",
     "output_type": "stream",
     "text": [
      "Wall time: 25.6 s\n"
     ]
    }
   ],
   "source": [
    "%%time\n",
    "#merge latest orders (prior_last_orders) with above user and product feat\n",
    "\n",
    "train_df = merged_df.merge(upd_train_orders,  how='left', left_on=['user_id','product_id'], right_on = ['user_id','product_id'])\n",
    "train_df = train_df.merge( last_orders, on = 'user_id')\n",
    "train_df.drop(\"order_id\", axis = 1, inplace = True)\n",
    "train_df.rename(columns = {'new_order_id':'order_id'}, inplace = True) \n",
    "train_df = train_df.merge( order_details, on = 'order_id')\n",
    "train_df[['reordered']]= train_df[['reordered']].fillna(value=0.0)"
   ]
  },
  {
   "cell_type": "code",
   "execution_count": 25,
   "id": "subjective-motivation",
   "metadata": {},
   "outputs": [
    {
     "data": {
      "text/plain": [
       "Index(['user_id', 'product_id', 'user_product_order_rate',\n",
       "       'user_product_reorder_rate', 'user_product_avg_position',\n",
       "       'user_product_orders_since_last', 'reorder_rate', 'unique_products',\n",
       "       'user_total_products', 'avg_cart_size', 'user_avg_days_between_orders',\n",
       "       'user_unique_products', 'user_reordered_products',\n",
       "       'user_reordered_products_ratio', 'product_reorder_rate',\n",
       "       'avg_pos_incart', 'aisle_id', 'department_id', 'aisle_reorder_rate',\n",
       "       'dept_reorder_rate', 'reordered', 'order_id', 'order_dow',\n",
       "       'order_hour_of_day', 'days_since_prior_order'],\n",
       "      dtype='object')"
      ]
     },
     "execution_count": 25,
     "metadata": {},
     "output_type": "execute_result"
    }
   ],
   "source": [
    "train_df.columns"
   ]
  },
  {
   "cell_type": "code",
   "execution_count": 26,
   "id": "comic-anime",
   "metadata": {},
   "outputs": [
    {
     "name": "stdout",
     "output_type": "stream",
     "text": [
      "Wall time: 1.24 s\n"
     ]
    }
   ],
   "source": [
    "%%time\n",
    "hour_reorder_rate = pickle.load(open(\"new_features/hour_reorder_rate.pkl\",\"rb\"))\n",
    "product_days_since_prior_order_reorder_rate = pickle.load(open(\"new_features/product_days_since_prior_order_reorder_rate.pkl\",\"rb\"))\n",
    "day_reorder_rate = pickle.load(open(\"new_features/day_reorder_rate.pkl\",\"rb\"))\n",
    "user_days_since_prior_order_reorder_rate = pickle.load(open(\"new_features/user_days_since_prior_order_reorder_rate.pkl\",\"rb\"))\n",
    "days_since_prior_reorder_rate = pickle.load(open(\"new_features/days_since_prior_reorder_rate.pkl\",\"rb\"))"
   ]
  },
  {
   "cell_type": "code",
   "execution_count": 33,
   "id": "brown-invite",
   "metadata": {},
   "outputs": [
    {
     "data": {
      "text/html": [
       "<div>\n",
       "<style scoped>\n",
       "    .dataframe tbody tr th:only-of-type {\n",
       "        vertical-align: middle;\n",
       "    }\n",
       "\n",
       "    .dataframe tbody tr th {\n",
       "        vertical-align: top;\n",
       "    }\n",
       "\n",
       "    .dataframe thead th {\n",
       "        text-align: right;\n",
       "    }\n",
       "</style>\n",
       "<table border=\"1\" class=\"dataframe\">\n",
       "  <thead>\n",
       "    <tr style=\"text-align: right;\">\n",
       "      <th></th>\n",
       "      <th>user_id</th>\n",
       "      <th>product_id</th>\n",
       "      <th>days_since_prior_order</th>\n",
       "      <th>days_since_prior_reorder_rate</th>\n",
       "    </tr>\n",
       "  </thead>\n",
       "  <tbody>\n",
       "    <tr>\n",
       "      <th>0</th>\n",
       "      <td>1</td>\n",
       "      <td>196</td>\n",
       "      <td>0.0</td>\n",
       "      <td>0.2</td>\n",
       "    </tr>\n",
       "    <tr>\n",
       "      <th>1</th>\n",
       "      <td>1</td>\n",
       "      <td>196</td>\n",
       "      <td>14.0</td>\n",
       "      <td>0.1</td>\n",
       "    </tr>\n",
       "    <tr>\n",
       "      <th>2</th>\n",
       "      <td>1</td>\n",
       "      <td>196</td>\n",
       "      <td>15.0</td>\n",
       "      <td>0.1</td>\n",
       "    </tr>\n",
       "    <tr>\n",
       "      <th>3</th>\n",
       "      <td>1</td>\n",
       "      <td>196</td>\n",
       "      <td>19.0</td>\n",
       "      <td>0.1</td>\n",
       "    </tr>\n",
       "    <tr>\n",
       "      <th>4</th>\n",
       "      <td>1</td>\n",
       "      <td>196</td>\n",
       "      <td>20.0</td>\n",
       "      <td>0.1</td>\n",
       "    </tr>\n",
       "  </tbody>\n",
       "</table>\n",
       "</div>"
      ],
      "text/plain": [
       "   user_id  product_id  days_since_prior_order  days_since_prior_reorder_rate\n",
       "0        1         196                     0.0                            0.2\n",
       "1        1         196                    14.0                            0.1\n",
       "2        1         196                    15.0                            0.1\n",
       "3        1         196                    19.0                            0.1\n",
       "4        1         196                    20.0                            0.1"
      ]
     },
     "execution_count": 33,
     "metadata": {},
     "output_type": "execute_result"
    }
   ],
   "source": [
    "days_since_prior_reorder_rate.head()"
   ]
  },
  {
   "cell_type": "code",
   "execution_count": 27,
   "id": "undefined-salad",
   "metadata": {},
   "outputs": [],
   "source": [
    "train_df = train_df.merge( hour_reorder_rate, on=['product_id','order_hour_of_day'], how = 'left')"
   ]
  },
  {
   "cell_type": "code",
   "execution_count": 28,
   "id": "chemical-hormone",
   "metadata": {},
   "outputs": [],
   "source": [
    "train_df = train_df.merge( day_reorder_rate, on=['product_id','order_dow'], how = 'left')"
   ]
  },
  {
   "cell_type": "code",
   "execution_count": 30,
   "id": "applied-trout",
   "metadata": {},
   "outputs": [],
   "source": [
    "train_df = train_df.merge( product_days_since_prior_order_reorder_rate, on=['product_id','days_since_prior_order'], how = 'left')"
   ]
  },
  {
   "cell_type": "code",
   "execution_count": 32,
   "id": "broke-yahoo",
   "metadata": {},
   "outputs": [],
   "source": [
    "train_df = train_df.merge(user_days_since_prior_order_reorder_rate, on=['user_id','days_since_prior_order'], how = 'left')"
   ]
  },
  {
   "cell_type": "code",
   "execution_count": 34,
   "id": "brown-freeze",
   "metadata": {},
   "outputs": [],
   "source": [
    "train_df = train_df.merge( days_since_prior_reorder_rate, on=['product_id','user_id','days_since_prior_order'], how = 'left')"
   ]
  },
  {
   "cell_type": "code",
   "execution_count": 35,
   "id": "appreciated-broadcasting",
   "metadata": {},
   "outputs": [
    {
     "data": {
      "text/plain": [
       "user_id                                              0\n",
       "product_id                                           0\n",
       "user_product_order_rate                              0\n",
       "user_product_reorder_rate                            0\n",
       "user_product_avg_position                            0\n",
       "user_product_orders_since_last                       0\n",
       "reorder_rate                                         0\n",
       "unique_products                                      0\n",
       "user_total_products                                  0\n",
       "avg_cart_size                                        0\n",
       "user_avg_days_between_orders                         0\n",
       "user_unique_products                                 0\n",
       "user_reordered_products                              0\n",
       "user_reordered_products_ratio                        0\n",
       "product_reorder_rate                                 0\n",
       "avg_pos_incart                                       0\n",
       "aisle_id                                             0\n",
       "department_id                                        0\n",
       "aisle_reorder_rate                                   0\n",
       "dept_reorder_rate                                    0\n",
       "reordered                                            0\n",
       "order_id                                             0\n",
       "order_dow                                            0\n",
       "order_hour_of_day                                    0\n",
       "days_since_prior_order                               0\n",
       "hour_reorder_rate                                72659\n",
       "day_reorder_rate                                 14523\n",
       "product_days_since_prior_order_reorder_rate     110468\n",
       "user_days_since_prior_order_reorder_rate       3049622\n",
       "days_since_prior_reorder_rate                  6920845\n",
       "dtype: int64"
      ]
     },
     "execution_count": 35,
     "metadata": {},
     "output_type": "execute_result"
    }
   ],
   "source": [
    "train_df.isna().sum()"
   ]
  },
  {
   "cell_type": "code",
   "execution_count": 36,
   "id": "designed-curtis",
   "metadata": {},
   "outputs": [],
   "source": [
    "train_df = train_df.fillna(0)"
   ]
  },
  {
   "cell_type": "code",
   "execution_count": 37,
   "id": "sweet-toronto",
   "metadata": {},
   "outputs": [
    {
     "data": {
      "text/plain": [
       "Index(['user_id', 'product_id', 'user_product_order_rate',\n",
       "       'user_product_reorder_rate', 'user_product_avg_position',\n",
       "       'user_product_orders_since_last', 'reorder_rate', 'unique_products',\n",
       "       'user_total_products', 'avg_cart_size', 'user_avg_days_between_orders',\n",
       "       'user_unique_products', 'user_reordered_products',\n",
       "       'user_reordered_products_ratio', 'product_reorder_rate',\n",
       "       'avg_pos_incart', 'aisle_id', 'department_id', 'aisle_reorder_rate',\n",
       "       'dept_reorder_rate', 'reordered', 'order_id', 'order_dow',\n",
       "       'order_hour_of_day', 'days_since_prior_order', 'hour_reorder_rate',\n",
       "       'day_reorder_rate', 'product_days_since_prior_order_reorder_rate',\n",
       "       'user_days_since_prior_order_reorder_rate',\n",
       "       'days_since_prior_reorder_rate'],\n",
       "      dtype='object')"
      ]
     },
     "execution_count": 37,
     "metadata": {},
     "output_type": "execute_result"
    }
   ],
   "source": [
    "train_df.columns"
   ]
  },
  {
   "cell_type": "code",
   "execution_count": 38,
   "id": "biological-valley",
   "metadata": {},
   "outputs": [
    {
     "name": "stdout",
     "output_type": "stream",
     "text": [
      "Wall time: 3.52 s\n"
     ]
    }
   ],
   "source": [
    "%%time\n",
    "pickle.dump(train_df,open(\"data_model/train_orders_merged_df.pkl\",\"wb\"))"
   ]
  },
  {
   "cell_type": "code",
   "execution_count": 2,
   "id": "compact-formula",
   "metadata": {},
   "outputs": [],
   "source": [
    "train_df = pickle.load(open(\"data_model/train_orders_merged_df.pkl\",'rb'))"
   ]
  },
  {
   "cell_type": "code",
   "execution_count": 6,
   "id": "activated-showcase",
   "metadata": {},
   "outputs": [
    {
     "name": "stdout",
     "output_type": "stream",
     "text": [
      "Wall time: 16.1 s\n"
     ]
    }
   ],
   "source": [
    "%%time\n",
    "user_features_f15 = pickle.load(open(\"new_features/user_features_f15.pkl\",'rb'))\n",
    "train_df  = train_df.merge(user_features_f15,on=\"user_id\",how=\"left\")"
   ]
  },
  {
   "cell_type": "code",
   "execution_count": 7,
   "id": "ecological-caribbean",
   "metadata": {},
   "outputs": [
    {
     "name": "stdout",
     "output_type": "stream",
     "text": [
      "Wall time: 6.26 s\n"
     ]
    }
   ],
   "source": [
    "%%time\n",
    "user_features_l15 = pickle.load(open(\"new_features/user_features_l15.pkl\",'rb'))\n",
    "train_df  = train_df.merge(user_features_l15,on=\"user_id\",how=\"left\")"
   ]
  },
  {
   "cell_type": "code",
   "execution_count": 10,
   "id": "spoken-badge",
   "metadata": {},
   "outputs": [
    {
     "name": "stdout",
     "output_type": "stream",
     "text": [
      "Wall time: 12.8 s\n"
     ]
    }
   ],
   "source": [
    "%%time\n",
    "user_product_features_f15 = pickle.load(open(\"new_features/user_product_features_f15.pkl\",'rb'))\n",
    "train_df  = train_df.merge(user_product_features_f15,on=[\"user_id\",\"product_id\"],how=\"left\")"
   ]
  },
  {
   "cell_type": "code",
   "execution_count": 11,
   "id": "earned-memory",
   "metadata": {},
   "outputs": [
    {
     "name": "stdout",
     "output_type": "stream",
     "text": [
      "Wall time: 11.3 s\n"
     ]
    }
   ],
   "source": [
    "%%time\n",
    "user_product_features_l15 = pickle.load(open(\"new_features/user_product_features_l15.pkl\",'rb'))\n",
    "train_df  = train_df.merge(user_product_features_l15,on=[\"user_id\",\"product_id\"],how=\"left\")"
   ]
  },
  {
   "cell_type": "code",
   "execution_count": 13,
   "id": "vulnerable-emergency",
   "metadata": {},
   "outputs": [
    {
     "name": "stdout",
     "output_type": "stream",
     "text": [
      "Wall time: 10.4 s\n"
     ]
    }
   ],
   "source": [
    "%%time\n",
    "embedings = pickle.load(open(\"new_features/products_pca.pkl\",'rb'))\n",
    "train_df  = train_df.merge(embedings,on=[\"product_id\"],how=\"left\")"
   ]
  },
  {
   "cell_type": "code",
   "execution_count": 14,
   "id": "approximate-scanner",
   "metadata": {},
   "outputs": [
    {
     "data": {
      "text/plain": [
       "Index(['user_id', 'product_id', 'user_product_order_rate',\n",
       "       'user_product_reorder_rate', 'user_product_avg_position',\n",
       "       'user_product_orders_since_last', 'reorder_rate', 'unique_products',\n",
       "       'user_total_products', 'avg_cart_size', 'user_avg_days_between_orders',\n",
       "       'user_unique_products_x', 'user_reordered_products',\n",
       "       'user_reordered_products_ratio', 'product_reorder_rate',\n",
       "       'avg_pos_incart', 'aisle_id', 'department_id', 'aisle_reorder_rate',\n",
       "       'dept_reorder_rate', 'reordered', 'order_id', 'order_dow',\n",
       "       'order_hour_of_day', 'days_since_prior_order', 'hour_reorder_rate',\n",
       "       'day_reorder_rate', 'product_days_since_prior_order_reorder_rate',\n",
       "       'user_days_since_prior_order_reorder_rate',\n",
       "       'days_since_prior_reorder_rate', 'reorder_rate_f15',\n",
       "       'unique_products_f15', 'user_total_products_f15', 'avg_cart_size_f15',\n",
       "       'user_avg_days_between_orders_f15', 'user_reordered_products_f15',\n",
       "       'user_reordered_products_ratio_f15', 'reorder_rate_l15',\n",
       "       'unique_products_l15', 'user_total_products_l15', 'avg_cart_size_l15',\n",
       "       'user_avg_days_between_orders_l15', 'user_unique_products_y',\n",
       "       'user_reordered_products_ratio_l15', 'user_product_order_rate_f15',\n",
       "       'user_product_reorder_rate_f15', 'user_product_order_rate_l15',\n",
       "       'user_product_reorder_rate_l15', 'pca0', 'pca1', 'pca2', 'pca3', 'pca4',\n",
       "       'pca5', 'pca6', 'pca7', 'pca8', 'pca9', 'pca10', 'pca11', 'pca12',\n",
       "       'pca13', 'pca14', 'pca15', 'pca16', 'pca17', 'pca18', 'pca19', 'pca20',\n",
       "       'pca21', 'pca22', 'pca23', 'pca24', 'pca25', 'pca26', 'pca27', 'pca28',\n",
       "       'pca29'],\n",
       "      dtype='object')"
      ]
     },
     "execution_count": 14,
     "metadata": {},
     "output_type": "execute_result"
    }
   ],
   "source": [
    "train_df.columns"
   ]
  },
  {
   "cell_type": "code",
   "execution_count": 15,
   "id": "opponent-trunk",
   "metadata": {},
   "outputs": [],
   "source": [
    "train_df = train_df.drop(\"user_unique_products_y\",axis=1)\n",
    "train_df = train_df.rename(columns={\"user_unique_products_x\":\"user_unique_products\"})"
   ]
  },
  {
   "cell_type": "code",
   "execution_count": 16,
   "id": "swedish-iraqi",
   "metadata": {},
   "outputs": [
    {
     "data": {
      "text/plain": [
       "Index(['user_id', 'product_id', 'user_product_order_rate',\n",
       "       'user_product_reorder_rate', 'user_product_avg_position',\n",
       "       'user_product_orders_since_last', 'reorder_rate', 'unique_products',\n",
       "       'user_total_products', 'avg_cart_size', 'user_avg_days_between_orders',\n",
       "       'user_unique_products', 'user_reordered_products',\n",
       "       'user_reordered_products_ratio', 'product_reorder_rate',\n",
       "       'avg_pos_incart', 'aisle_id', 'department_id', 'aisle_reorder_rate',\n",
       "       'dept_reorder_rate', 'reordered', 'order_id', 'order_dow',\n",
       "       'order_hour_of_day', 'days_since_prior_order', 'hour_reorder_rate',\n",
       "       'day_reorder_rate', 'product_days_since_prior_order_reorder_rate',\n",
       "       'user_days_since_prior_order_reorder_rate',\n",
       "       'days_since_prior_reorder_rate', 'reorder_rate_f15',\n",
       "       'unique_products_f15', 'user_total_products_f15', 'avg_cart_size_f15',\n",
       "       'user_avg_days_between_orders_f15', 'user_reordered_products_f15',\n",
       "       'user_reordered_products_ratio_f15', 'reorder_rate_l15',\n",
       "       'unique_products_l15', 'user_total_products_l15', 'avg_cart_size_l15',\n",
       "       'user_avg_days_between_orders_l15', 'user_reordered_products_ratio_l15',\n",
       "       'user_product_order_rate_f15', 'user_product_reorder_rate_f15',\n",
       "       'user_product_order_rate_l15', 'user_product_reorder_rate_l15', 'pca0',\n",
       "       'pca1', 'pca2', 'pca3', 'pca4', 'pca5', 'pca6', 'pca7', 'pca8', 'pca9',\n",
       "       'pca10', 'pca11', 'pca12', 'pca13', 'pca14', 'pca15', 'pca16', 'pca17',\n",
       "       'pca18', 'pca19', 'pca20', 'pca21', 'pca22', 'pca23', 'pca24', 'pca25',\n",
       "       'pca26', 'pca27', 'pca28', 'pca29'],\n",
       "      dtype='object')"
      ]
     },
     "execution_count": 16,
     "metadata": {},
     "output_type": "execute_result"
    }
   ],
   "source": [
    "train_df.columns"
   ]
  },
  {
   "cell_type": "code",
   "execution_count": 19,
   "id": "hired-thriller",
   "metadata": {},
   "outputs": [
    {
     "data": {
      "text/plain": [
       "user_id                      False\n",
       "product_id                   False\n",
       "user_product_order_rate      False\n",
       "user_product_reorder_rate    False\n",
       "user_product_avg_position    False\n",
       "                             ...  \n",
       "pca25                        False\n",
       "pca26                        False\n",
       "pca27                        False\n",
       "pca28                        False\n",
       "pca29                        False\n",
       "Length: 77, dtype: bool"
      ]
     },
     "execution_count": 19,
     "metadata": {},
     "output_type": "execute_result"
    }
   ],
   "source": [
    "train_df.isna().any()"
   ]
  },
  {
   "cell_type": "code",
   "execution_count": 20,
   "id": "suspected-potato",
   "metadata": {},
   "outputs": [],
   "source": [
    "train_df = train_df.fillna(0)"
   ]
  },
  {
   "cell_type": "code",
   "execution_count": 21,
   "id": "guided-catering",
   "metadata": {},
   "outputs": [
    {
     "name": "stdout",
     "output_type": "stream",
     "text": [
      "Wall time: 38.1 s\n"
     ]
    }
   ],
   "source": [
    "%%time\n",
    "pickle.dump(train_df,open(\"data_model/train_orders_merged_df_new.pkl\",\"wb\"))"
   ]
  },
  {
   "cell_type": "code",
   "execution_count": 39,
   "id": "demanding-cookbook",
   "metadata": {},
   "outputs": [
    {
     "name": "stdout",
     "output_type": "stream",
     "text": [
      "Wall time: 10.1 s\n"
     ]
    }
   ],
   "source": [
    "%%time\n",
    "#load all data files\n",
    "aisles = pd.read_csv('data\\\\aisles.csv')\n",
    "departments = pd.read_csv('data\\\\departments.csv')\n",
    "prior_order = pd.read_csv('data\\\\order_products__prior.csv')\n",
    "train_order = pd.read_csv('data\\\\order_products__train.csv')\n",
    "orders = pd.read_csv('data\\\\orders.csv')\n",
    "products = pd.read_csv('data\\\\products.csv')\n",
    "\n",
    "#imputation\n",
    "orders.fillna(value = 0, inplace = True)"
   ]
  },
  {
   "cell_type": "code",
   "execution_count": 40,
   "id": "swiss-transcription",
   "metadata": {},
   "outputs": [
    {
     "name": "stdout",
     "output_type": "stream",
     "text": [
      "Wall time: 257 ms\n"
     ]
    }
   ],
   "source": [
    "%%time\n",
    "#get test order details\n",
    "\n",
    "order_details_test = orders[orders['eval_set'] == 'test']\n",
    "order_details_test = order_details_test.drop(['eval_set'], axis = 1)"
   ]
  },
  {
   "cell_type": "code",
   "execution_count": 41,
   "id": "recorded-flesh",
   "metadata": {},
   "outputs": [
    {
     "name": "stdout",
     "output_type": "stream",
     "text": [
      "Wall time: 10.4 s\n"
     ]
    }
   ],
   "source": [
    "%%time\n",
    "# merge on user_product features, to get features on this order\n",
    "\n",
    "test_df = pd.merge(order_details_test, user_product_features, on = ['user_id'], how = 'outer')\n",
    "test_df.dropna(inplace =True)\n",
    "test_df = test_df.merge(user_features, on = ['user_id'])\n",
    "test_df = test_df.merge(product_features, on = ['product_id'])"
   ]
  },
  {
   "cell_type": "code",
   "execution_count": 42,
   "id": "literary-muscle",
   "metadata": {},
   "outputs": [
    {
     "name": "stdout",
     "output_type": "stream",
     "text": [
      "Wall time: 27.8 s\n"
     ]
    }
   ],
   "source": [
    "%%time\n",
    "test_df = test_df.merge( hour_reorder_rate, on=['product_id','order_hour_of_day'], how = 'left')\n",
    "test_df = test_df.merge( day_reorder_rate, on=['product_id','order_dow'], how = 'left')\n",
    "test_df = test_df.merge( product_days_since_prior_order_reorder_rate, on=['product_id','days_since_prior_order'], how = 'left')\n",
    "\n",
    "test_df = test_df.merge( user_days_since_prior_order_reorder_rate, on=['user_id','days_since_prior_order'], how = 'left')\n",
    "test_df = test_df.merge( days_since_prior_reorder_rate, on=['product_id','user_id','days_since_prior_order'], how = 'left')"
   ]
  },
  {
   "cell_type": "code",
   "execution_count": 43,
   "id": "unable-moscow",
   "metadata": {},
   "outputs": [
    {
     "data": {
      "text/plain": [
       "order_id                                             0\n",
       "user_id                                              0\n",
       "order_number                                         0\n",
       "order_dow                                            0\n",
       "order_hour_of_day                                    0\n",
       "days_since_prior_order                               0\n",
       "product_id                                           0\n",
       "user_product_order_rate                              0\n",
       "user_product_reorder_rate                            0\n",
       "user_product_avg_position                            0\n",
       "user_product_orders_since_last                       0\n",
       "reorder_rate                                         0\n",
       "unique_products                                      0\n",
       "user_total_products                                  0\n",
       "avg_cart_size                                        0\n",
       "user_avg_days_between_orders                         0\n",
       "user_unique_products                                 0\n",
       "user_reordered_products                              0\n",
       "user_reordered_products_ratio                        0\n",
       "product_reorder_rate                                 0\n",
       "avg_pos_incart                                       0\n",
       "aisle_id                                             0\n",
       "department_id                                        0\n",
       "aisle_reorder_rate                                   0\n",
       "dept_reorder_rate                                    0\n",
       "hour_reorder_rate                                41238\n",
       "day_reorder_rate                                  8561\n",
       "product_days_since_prior_order_reorder_rate      62703\n",
       "user_days_since_prior_order_reorder_rate       1750832\n",
       "days_since_prior_reorder_rate                  3948433\n",
       "dtype: int64"
      ]
     },
     "execution_count": 43,
     "metadata": {},
     "output_type": "execute_result"
    }
   ],
   "source": [
    "test_df.isna().sum()"
   ]
  },
  {
   "cell_type": "code",
   "execution_count": 45,
   "id": "answering-imagination",
   "metadata": {},
   "outputs": [],
   "source": [
    "test_df = test_df.fillna(0)"
   ]
  },
  {
   "cell_type": "code",
   "execution_count": 46,
   "id": "electronic-thing",
   "metadata": {},
   "outputs": [
    {
     "name": "stdout",
     "output_type": "stream",
     "text": [
      "Wall time: 2.01 s\n"
     ]
    }
   ],
   "source": [
    "%%time\n",
    "pickle.dump(test_df,open(\"data_model/test_orders_merge_df.pkl\",\"wb\"))"
   ]
  },
  {
   "cell_type": "code",
   "execution_count": 22,
   "id": "ecological-washer",
   "metadata": {},
   "outputs": [
    {
     "name": "stdout",
     "output_type": "stream",
     "text": [
      "Wall time: 2.04 s\n"
     ]
    }
   ],
   "source": [
    "%%time\n",
    "test_df = pickle.load(open(\"data_model/test_orders_merge_df.pkl\",'rb'))"
   ]
  },
  {
   "cell_type": "code",
   "execution_count": 23,
   "id": "loose-engineer",
   "metadata": {},
   "outputs": [
    {
     "name": "stdout",
     "output_type": "stream",
     "text": [
      "Wall time: 11.1 s\n"
     ]
    }
   ],
   "source": [
    "%%time\n",
    "user_features_f15 = pickle.load(open(\"new_features/user_features_f15.pkl\",'rb'))\n",
    "test_df  = test_df.merge(user_features_f15,on=\"user_id\",how=\"left\")"
   ]
  },
  {
   "cell_type": "code",
   "execution_count": 24,
   "id": "legislative-verification",
   "metadata": {},
   "outputs": [
    {
     "name": "stdout",
     "output_type": "stream",
     "text": [
      "Wall time: 4.52 s\n"
     ]
    }
   ],
   "source": [
    "%%time\n",
    "user_features_l15 = pickle.load(open(\"new_features/user_features_l15.pkl\",'rb'))\n",
    "test_df  = test_df.merge(user_features_l15,on=\"user_id\",how=\"left\")"
   ]
  },
  {
   "cell_type": "code",
   "execution_count": 25,
   "id": "hired-withdrawal",
   "metadata": {},
   "outputs": [
    {
     "name": "stdout",
     "output_type": "stream",
     "text": [
      "Wall time: 10.7 s\n"
     ]
    }
   ],
   "source": [
    "%%time\n",
    "user_product_features_f15 = pickle.load(open(\"new_features/user_product_features_f15.pkl\",'rb'))\n",
    "test_df  = test_df.merge(user_product_features_f15,on=[\"user_id\",\"product_id\"],how=\"left\")"
   ]
  },
  {
   "cell_type": "code",
   "execution_count": 26,
   "id": "suburban-quantity",
   "metadata": {},
   "outputs": [
    {
     "name": "stdout",
     "output_type": "stream",
     "text": [
      "Wall time: 8.06 s\n"
     ]
    }
   ],
   "source": [
    "%%time\n",
    "user_product_features_l15 = pickle.load(open(\"new_features/user_product_features_l15.pkl\",'rb'))\n",
    "test_df  = test_df.merge(user_product_features_l15,on=[\"user_id\",\"product_id\"],how=\"left\")"
   ]
  },
  {
   "cell_type": "code",
   "execution_count": 27,
   "id": "welcome-spring",
   "metadata": {},
   "outputs": [
    {
     "name": "stdout",
     "output_type": "stream",
     "text": [
      "Wall time: 4.23 s\n"
     ]
    }
   ],
   "source": [
    "%%time\n",
    "embedings = pickle.load(open(\"new_features/products_pca.pkl\",'rb'))\n",
    "test_df  = test_df.merge(embedings,on=[\"product_id\"],how=\"left\")"
   ]
  },
  {
   "cell_type": "code",
   "execution_count": 28,
   "id": "ambient-method",
   "metadata": {},
   "outputs": [],
   "source": [
    "test_df = test_df.drop(\"user_unique_products_y\",axis=1)\n",
    "test_df = test_df.rename(columns={\"user_unique_products_x\":\"user_unique_products\"})"
   ]
  },
  {
   "cell_type": "code",
   "execution_count": 29,
   "id": "sharing-feelings",
   "metadata": {},
   "outputs": [
    {
     "data": {
      "text/plain": [
       "order_id             False\n",
       "user_id              False\n",
       "order_number         False\n",
       "order_dow            False\n",
       "order_hour_of_day    False\n",
       "                     ...  \n",
       "pca25                False\n",
       "pca26                False\n",
       "pca27                False\n",
       "pca28                False\n",
       "pca29                False\n",
       "Length: 77, dtype: bool"
      ]
     },
     "execution_count": 29,
     "metadata": {},
     "output_type": "execute_result"
    }
   ],
   "source": [
    "test_df.isna().any()"
   ]
  },
  {
   "cell_type": "code",
   "execution_count": 30,
   "id": "physical-transformation",
   "metadata": {},
   "outputs": [],
   "source": [
    "test_df = test_df.fillna(0)"
   ]
  },
  {
   "cell_type": "code",
   "execution_count": 31,
   "id": "figured-windsor",
   "metadata": {},
   "outputs": [
    {
     "name": "stdout",
     "output_type": "stream",
     "text": [
      "Wall time: 37.8 s\n"
     ]
    }
   ],
   "source": [
    "%%time\n",
    "pickle.dump(test_df,open(\"data_model/test_orders_merge_df_new.pkl\",\"wb\"))"
   ]
  }
 ],
 "metadata": {
  "kernelspec": {
   "display_name": "Python 3",
   "language": "python",
   "name": "python3"
  },
  "language_info": {
   "codemirror_mode": {
    "name": "ipython",
    "version": 3
   },
   "file_extension": ".py",
   "mimetype": "text/x-python",
   "name": "python",
   "nbconvert_exporter": "python",
   "pygments_lexer": "ipython3",
   "version": "3.8.3"
  }
 },
 "nbformat": 4,
 "nbformat_minor": 5
}
