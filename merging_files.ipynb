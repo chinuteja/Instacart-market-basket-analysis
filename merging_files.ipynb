{
 "cells": [
  {
   "cell_type": "code",
   "execution_count": null,
   "id": "formal-helen",
   "metadata": {},
   "outputs": [],
   "source": [
    "import pandas as pd\n",
    "import pickle"
   ]
  },
  {
   "cell_type": "code",
   "execution_count": null,
   "id": "tender-commander",
   "metadata": {},
   "outputs": [],
   "source": [
    "#load all data files\n",
    "aisles = pd.read_csv('aisles.csv')\n",
    "departments = pd.read_csv('departments.csv')\n",
    "prior_order = pd.read_csv('order_products__prior.csv')\n",
    "train_order = pd.read_csv('order_products__train.csv')\n",
    "orders = pd.read_csv('orders.csv')\n",
    "products = pd.read_csv('products.csv')\n",
    "\n",
    "#imputation\n",
    "orders.fillna(value = 0, inplace = True)"
   ]
  },
  {
   "cell_type": "code",
   "execution_count": null,
   "id": "administrative-jamaica",
   "metadata": {},
   "outputs": [],
   "source": [
    "#prior_train_orders = pd.concat([prior_order, train_order]).sort_values(by=['order_id'])\n",
    "\n",
    "#Merge all files together\n",
    "prior_orders_data = prior_order.sort_values(by=['order_id'])\n",
    "prior_orders_data = pd.merge(left = prior_orders_data, right = products,\n",
    "                             left_on='product_id', right_on='product_id').sort_values(by=['order_id']).reset_index(drop=True)\n",
    "prior_orders_data = pd.merge(left = prior_orders_data, right = aisles,\n",
    "                             left_on='aisle_id', right_on='aisle_id').sort_values(by=['order_id']).reset_index(drop=True)\n",
    "prior_orders_data = pd.merge(left = prior_orders_data, right = departments,\n",
    "                             left_on='department_id', right_on='department_id').sort_values(by=['order_id']).reset_index(drop=True)\n",
    "prior_orders_data = pd.merge(left = prior_orders_data, right = orders,\n",
    "                             left_on='order_id', right_on='order_id').sort_values(by=['order_id']).reset_index(drop=True)\n",
    "\n",
    "col_order = ['user_id',\n",
    " 'order_id',\n",
    " 'product_id',\n",
    "  'aisle_id',\n",
    " 'department_id',\n",
    " 'add_to_cart_order',\n",
    " 'reordered',\n",
    " 'product_name',\n",
    " 'aisle',\n",
    " 'department',\n",
    " 'eval_set',\n",
    " 'order_number',\n",
    " 'order_dow',\n",
    " 'order_hour_of_day',\n",
    " 'days_since_prior_order']\n",
    "\n",
    "prior_orders_data = prior_orders_data[col_order]\n",
    "print(\"Shape of prior_orders_data :\", prior_orders_data.shape)\n",
    "prior_orders_data.head()"
   ]
  },
  {
   "cell_type": "code",
   "execution_count": null,
   "id": "genuine-syndication",
   "metadata": {},
   "outputs": [],
   "source": [
    "pickle.dump(prior_orders_data,open(\"data_pickle/prior_data.pkl\",\"wb\"))"
   ]
  }
 ],
 "metadata": {
  "kernelspec": {
   "display_name": "Python 3",
   "language": "python",
   "name": "python3"
  },
  "language_info": {
   "codemirror_mode": {
    "name": "ipython",
    "version": 3
   },
   "file_extension": ".py",
   "mimetype": "text/x-python",
   "name": "python",
   "nbconvert_exporter": "python",
   "pygments_lexer": "ipython3",
   "version": "3.8.3"
  }
 },
 "nbformat": 4,
 "nbformat_minor": 5
}
