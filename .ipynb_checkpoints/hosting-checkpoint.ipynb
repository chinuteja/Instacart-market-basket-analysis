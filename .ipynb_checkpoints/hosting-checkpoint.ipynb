{
 "cells": [
  {
   "cell_type": "code",
   "execution_count": 1,
   "id": "bibliographic-saturday",
   "metadata": {},
   "outputs": [],
   "source": [
    "import pickle\n",
    "from flask import Flask, jsonify, request,render_template,Response\n",
    "import flask\n",
    "import pandas as pd \n",
    "from werkzeug.wrappers import Request, Response"
   ]
  },
  {
   "cell_type": "code",
   "execution_count": null,
   "id": "understanding-leonard",
   "metadata": {},
   "outputs": [],
   "source": [
    "reference : https://youtu.be/UbCWoMf80PY"
   ]
  },
  {
   "cell_type": "code",
   "execution_count": 2,
   "id": "welcome-beads",
   "metadata": {},
   "outputs": [
    {
     "name": "stdout",
     "output_type": "stream",
     "text": [
      "Wall time: 11.2 s\n"
     ]
    }
   ],
   "source": [
    "%%time\n",
    "app = Flask(__name__)\n",
    "\n",
    "\n",
    "products = pd.read_csv(\"data/products.csv\")\n",
    "\n",
    "df_train = pickle.load(open(\"data_model/train_orders_merged_df_new.pkl\",\"rb\"))\n",
    "\n",
    "df_test = pickle.load(open(\"data_model/test_orders_merge_df_new.pkl\",\"rb\"))"
   ]
  },
  {
   "cell_type": "code",
   "execution_count": 3,
   "id": "formal-poverty",
   "metadata": {},
   "outputs": [],
   "source": [
    "def prediction_function(user_id):\n",
    "    if user_id in df_train[\"user_id\"].unique():\n",
    "        data = df_train[df_train[\"user_id\"] == user_id]\n",
    "        data_ = data.copy()\n",
    "        data = data.drop(['product_id','order_id',\"department_id\",\"aisle_id\",\"reordered\"],axis=1)\n",
    "#         print(data.shape)\n",
    "        model = pickle.load(open(\"models_more_features//best_lgbm_new.pkl\",\"rb\"))\n",
    "        data_[\"prediction\"] = model.predict(data)\n",
    "        d = data_[[\"user_id\",\"product_id\"]]\n",
    "        d = d.merge(products,on=\"product_id\",how=\"left\")\n",
    "        recomended_products = []\n",
    "        count = 0\n",
    "        for i in d[\"product_name\"]:\n",
    "            recomended_products.append(i)\n",
    "            count = count+1\n",
    "            if (count == 10):\n",
    "                break\n",
    "        \n",
    "\n",
    "    elif user_id in df_test[\"user_id\"].unique():\n",
    "        data = df_test[df_test[\"user_id\"] == user_id]\n",
    "        data_ = data.copy()\n",
    "        data = data.drop(['product_id','order_id',\"department_id\",\"aisle_id\",\"order_number\"],axis=1)\n",
    "\n",
    "        model = pickle.load(open(\"models_more_features//best_lgbm_new.pkl\",\"rb\"))\n",
    "        data_[\"prediction\"] = model.predict(data)\n",
    "        d = data_[[\"user_id\",\"product_id\"]]\n",
    "        d = d.merge(products,on=\"product_id\",how=\"left\")\n",
    "        recomended_products = []\n",
    "        count = 0\n",
    "        for i in d[\"product_name\"]:\n",
    "            recomended_products.append(i)\n",
    "            count = count+1\n",
    "            if (count == 10):\n",
    "                break\n",
    "    else:\n",
    "        recomended_products = []\n",
    "        print(\"user id is not available in data\")\n",
    "    return recomended_products\n"
   ]
  },
  {
   "cell_type": "code",
   "execution_count": 4,
   "id": "egyptian-longitude",
   "metadata": {},
   "outputs": [],
   "source": [
    "@app.route('/')\n",
    "def index():\n",
    "    return render_template('index.html')"
   ]
  },
  {
   "cell_type": "code",
   "execution_count": 5,
   "id": "random-dividend",
   "metadata": {},
   "outputs": [],
   "source": [
    "@app.route('/predict', methods=['POST'])\n",
    "def predict():\n",
    "    print(\"request\",request.form.values())\n",
    "    to_predict_list = [int(x) for x in request.form.values()]\n",
    "    products = prediction_function(to_predict_list[0])\n",
    "    output = []\n",
    "    if len(products) != 0:\n",
    "        for i in products:\n",
    "            if i != \"None\":\n",
    "                output.append(i)\n",
    "            else:\n",
    "                output.append(\"nothing\")\n",
    "    else:\n",
    "        output.append(\"None\")\n",
    "#     print(jsonify(output))\n",
    "    return Response(render_template('output.html',data=(output)))\n"
   ]
  },
  {
   "cell_type": "code",
   "execution_count": null,
   "id": "private-edition",
   "metadata": {},
   "outputs": [
    {
     "name": "stderr",
     "output_type": "stream",
     "text": [
      " * Running on http://localhost:9000/ (Press CTRL+C to quit)\n",
      "127.0.0.1 - - [15/Jun/2021 14:00:30] \"\u001b[37mGET / HTTP/1.1\u001b[0m\" 200 -\n"
     ]
    },
    {
     "name": "stdout",
     "output_type": "stream",
     "text": [
      "request <generator object MultiDict.values at 0x000002552E98AD60>\n"
     ]
    },
    {
     "name": "stderr",
     "output_type": "stream",
     "text": [
      "127.0.0.1 - - [15/Jun/2021 14:01:02] \"\u001b[37mPOST /predict HTTP/1.1\u001b[0m\" 200 -\n"
     ]
    }
   ],
   "source": [
    "# https://stackoverflow.com/questions/31252791/flask-importerror-no-module-named-flask\n",
    "# this cell should always be in running\n",
    "if __name__ == '__main__':\n",
    "    from werkzeug.serving import run_simple\n",
    "    run_simple('localhost', 9000, app)"
   ]
  },
  {
   "cell_type": "markdown",
   "id": "higher-repeat",
   "metadata": {},
   "source": [
    "uploaded video of deploytment https://youtu.be/gEKw66jaKQk"
   ]
  }
 ],
 "metadata": {
  "kernelspec": {
   "display_name": "Python 3",
   "language": "python",
   "name": "python3"
  },
  "language_info": {
   "codemirror_mode": {
    "name": "ipython",
    "version": 3
   },
   "file_extension": ".py",
   "mimetype": "text/x-python",
   "name": "python",
   "nbconvert_exporter": "python",
   "pygments_lexer": "ipython3",
   "version": "3.8.3"
  }
 },
 "nbformat": 4,
 "nbformat_minor": 5
}
