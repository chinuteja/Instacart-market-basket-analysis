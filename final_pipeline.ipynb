{
 "cells": [
  {
   "cell_type": "code",
   "execution_count": 2,
   "id": "caring-platform",
   "metadata": {},
   "outputs": [],
   "source": [
    "import numpy as np\n",
    "import pandas as pd \n",
    "import pickle\n",
    "from datetime import datetime\n",
    "import gc\n",
    "import warnings\n",
    "from sklearn.metrics import f1_score\n",
    "import streamlit as st"
   ]
  },
  {
   "cell_type": "code",
   "execution_count": 3,
   "id": "fewer-fortune",
   "metadata": {},
   "outputs": [
    {
     "name": "stdout",
     "output_type": "stream",
     "text": [
      "Wall time: 61.8 ms\n"
     ]
    }
   ],
   "source": [
    "%%time\n",
    "products = pd.read_csv(\"data/products.csv\")"
   ]
  },
  {
   "cell_type": "code",
   "execution_count": 4,
   "id": "intimate-calvin",
   "metadata": {},
   "outputs": [
    {
     "data": {
      "text/html": [
       "<div>\n",
       "<style scoped>\n",
       "    .dataframe tbody tr th:only-of-type {\n",
       "        vertical-align: middle;\n",
       "    }\n",
       "\n",
       "    .dataframe tbody tr th {\n",
       "        vertical-align: top;\n",
       "    }\n",
       "\n",
       "    .dataframe thead th {\n",
       "        text-align: right;\n",
       "    }\n",
       "</style>\n",
       "<table border=\"1\" class=\"dataframe\">\n",
       "  <thead>\n",
       "    <tr style=\"text-align: right;\">\n",
       "      <th></th>\n",
       "      <th>product_id</th>\n",
       "      <th>product_name</th>\n",
       "      <th>aisle_id</th>\n",
       "      <th>department_id</th>\n",
       "    </tr>\n",
       "  </thead>\n",
       "  <tbody>\n",
       "    <tr>\n",
       "      <th>0</th>\n",
       "      <td>1</td>\n",
       "      <td>Chocolate Sandwich Cookies</td>\n",
       "      <td>61</td>\n",
       "      <td>19</td>\n",
       "    </tr>\n",
       "    <tr>\n",
       "      <th>1</th>\n",
       "      <td>2</td>\n",
       "      <td>All-Seasons Salt</td>\n",
       "      <td>104</td>\n",
       "      <td>13</td>\n",
       "    </tr>\n",
       "    <tr>\n",
       "      <th>2</th>\n",
       "      <td>3</td>\n",
       "      <td>Robust Golden Unsweetened Oolong Tea</td>\n",
       "      <td>94</td>\n",
       "      <td>7</td>\n",
       "    </tr>\n",
       "  </tbody>\n",
       "</table>\n",
       "</div>"
      ],
      "text/plain": [
       "   product_id                          product_name  aisle_id  department_id\n",
       "0           1            Chocolate Sandwich Cookies        61             19\n",
       "1           2                      All-Seasons Salt       104             13\n",
       "2           3  Robust Golden Unsweetened Oolong Tea        94              7"
      ]
     },
     "execution_count": 4,
     "metadata": {},
     "output_type": "execute_result"
    }
   ],
   "source": [
    "products.head(3)"
   ]
  },
  {
   "cell_type": "code",
   "execution_count": 5,
   "id": "mexican-calgary",
   "metadata": {},
   "outputs": [
    {
     "name": "stdout",
     "output_type": "stream",
     "text": [
      "Wall time: 6.6 s\n"
     ]
    }
   ],
   "source": [
    "%%time\n",
    "df_train = pickle.load(open(\"data_model/train_orders_merged_df_new.pkl\",\"rb\"))"
   ]
  },
  {
   "cell_type": "code",
   "execution_count": 6,
   "id": "sticky-latest",
   "metadata": {},
   "outputs": [
    {
     "name": "stdout",
     "output_type": "stream",
     "text": [
      "Wall time: 4.1 s\n"
     ]
    }
   ],
   "source": [
    "%%time\n",
    "df_test = pickle.load(open(\"data_model/test_orders_merge_df_new.pkl\",\"rb\"))"
   ]
  },
  {
   "cell_type": "code",
   "execution_count": 7,
   "id": "religious-median",
   "metadata": {},
   "outputs": [],
   "source": [
    "def prediction(user_id):\n",
    "    if user_id in df_train[\"user_id\"].unique():\n",
    "        data = df_train[df_train[\"user_id\"] == user_id]\n",
    "        data_ = data.copy()\n",
    "        data = data.drop(['product_id','order_id',\"department_id\",\"aisle_id\",\"reordered\"],axis=1)\n",
    "#         print(data.shape)\n",
    "        model = pickle.load(open(\"models_more_features//best_lgbm_new.pkl\",\"rb\"))\n",
    "        data_[\"prediction\"] = model.predict(data)\n",
    "        d = data_[[\"user_id\",\"product_id\"]]\n",
    "        d = d.merge(products,on=\"product_id\",how=\"left\")\n",
    "        print(\"*\"*10,\"recomended products\",\"*\"*10)\n",
    "        count = 0\n",
    "        for i in d[\"product_name\"]:\n",
    "            print(i)\n",
    "            count = count+1\n",
    "            if (count == 10):\n",
    "                break\n",
    "        print(\"**************************************\")\n",
    "\n",
    "    elif user_id in df_test[\"user_id\"].unique():\n",
    "        data = df_test[df_test[\"user_id\"] == user_id]\n",
    "        data_ = data.copy()\n",
    "        data = data.drop(['product_id','order_id',\"department_id\",\"aisle_id\",\"order_number\"],axis=1)\n",
    "\n",
    "        model = pickle.load(open(\"models_more_features//best_lgbm_new.pkl\",\"rb\"))\n",
    "        data_[\"prediction\"] = model.predict(data)\n",
    "        d = data_[[\"user_id\",\"product_id\"]]\n",
    "        d = d.merge(products,on=\"product_id\",how=\"left\")\n",
    "        print(\"*\"*10,\"recomended products\",\"*\"*10)\n",
    "        count = 0\n",
    "        for i in d[\"product_name\"]:\n",
    "            print(i)\n",
    "            count = count+1\n",
    "            if (count == 10):\n",
    "                break\n",
    "        print(\"**************************************\")\n",
    "    else:\n",
    "        print(\"user id is not available in data\")\n"
   ]
  },
  {
   "cell_type": "code",
   "execution_count": 9,
   "id": "sharp-validity",
   "metadata": {},
   "outputs": [
    {
     "name": "stdout",
     "output_type": "stream",
     "text": [
      "enter a user_id between 1 and 206208\n",
      "1\n",
      "********** recomended products **********\n",
      "Soda\n",
      "Pistachios\n",
      "Organic Fuji Apples\n",
      "Original Beef Jerky\n",
      "Cinnamon Toast Crunch\n",
      "Bag of Organic Bananas\n",
      "Organic Unsweetened Vanilla Almond Milk\n",
      "Honeycrisp Apples\n",
      "Organic String Cheese\n",
      "Aged White Cheddar Popcorn\n",
      "**************************************\n",
      "Wall time: 1.63 s\n"
     ]
    }
   ],
   "source": [
    "%%time\n",
    "print(\"enter a user_id between 1 and 206208\")\n",
    "user_id = int(input())\n",
    "prediction(user_id)"
   ]
  }
 ],
 "metadata": {
  "kernelspec": {
   "display_name": "Python 3",
   "language": "python",
   "name": "python3"
  },
  "language_info": {
   "codemirror_mode": {
    "name": "ipython",
    "version": 3
   },
   "file_extension": ".py",
   "mimetype": "text/x-python",
   "name": "python",
   "nbconvert_exporter": "python",
   "pygments_lexer": "ipython3",
   "version": "3.8.3"
  }
 },
 "nbformat": 4,
 "nbformat_minor": 5
}
